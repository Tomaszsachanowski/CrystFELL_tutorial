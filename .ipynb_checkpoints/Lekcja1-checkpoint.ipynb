{
 "cells": [
  {
   "cell_type": "code",
   "execution_count": 108,
   "metadata": {},
   "outputs": [
    {
     "name": "stdout",
     "output_type": "stream",
     "text": [
      "\u001b[0m\u001b[38;5;33manaconda3\u001b[0m             \u001b[38;5;33mindexamajig.11639\u001b[0m  list.tmp                SUMMARY\n",
      "\u001b[38;5;33mCrystFELL_tutorial\u001b[0m    \u001b[38;5;33mindexamajig.11686\u001b[0m  mosflm.lp               \u001b[38;5;33mSzablony\u001b[0m\n",
      "\u001b[38;5;33mcxidb-21-run0130\u001b[0m      \u001b[38;5;33mindexamajig.522\u001b[0m    \u001b[38;5;33mMuzyka\u001b[0m                  \u001b[38;5;33mtmp\u001b[0m\n",
      "\u001b[38;5;9mcxidb-21-run0130.tar\u001b[0m  \u001b[38;5;33mindexamajig.562\u001b[0m    \u001b[38;5;33mNCBJ-PRAKTYKI\u001b[0m           Untitled.ipynb\n",
      "\u001b[38;5;33mdata_processing\u001b[0m       \u001b[38;5;33mindexamajig.5936\u001b[0m   \u001b[38;5;33mObrazy\u001b[0m                  \u001b[38;5;33mWideo\u001b[0m\n",
      "\u001b[38;5;33mdestination\u001b[0m           \u001b[38;5;33mindexamajig.702\u001b[0m    \u001b[38;5;33mPobrane\u001b[0m                 \u001b[38;5;33mworkspace\u001b[0m\n",
      "\u001b[38;5;33mDokumenty\u001b[0m             \u001b[38;5;33mindexamajig.8293\u001b[0m   \u001b[38;5;33mPubliczny\u001b[0m\n",
      "\u001b[38;5;33mDownloads\u001b[0m             \u001b[38;5;33mindexamajig.9685\u001b[0m   \u001b[38;5;33mPulpit\u001b[0m\n",
      "\u001b[38;5;33mindexamajig.10169\u001b[0m     \u001b[38;5;33mindexamajig.9822\u001b[0m   slf4j.simpleLogger.log\n"
     ]
    }
   ],
   "source": [
    "cd ~\n",
    "ls\n",
    "hdfsee cxidb-21-run0130/cxidb-21-run0131/data1/LCLS_2013_Mar23_r0131_003717_55a7.h5 -g /home/tsachanowski/CrystFELL_tutorial/5HT2B-Liu-2013.geom\n",
    "\n",
    "# otwiera caly obraz z dorze ustawionymi panelami"
   ]
  },
  {
   "cell_type": "code",
   "execution_count": 171,
   "metadata": {},
   "outputs": [],
   "source": [
    "cd ~\n",
    "hdfsee cxidb-21-run0130/cxidb-21-run0131/data1/LCLS_2013_Mar23_r0131_003730_684f.h5 -g /home/tsachanowski/CrystFELL_tutorial/5HT2B-Liu-2013.geom\n",
    "#inne obrazy hdfsee"
   ]
  },
  {
   "cell_type": "code",
   "execution_count": 172,
   "metadata": {},
   "outputs": [],
   "source": [
    "hdfsee cxidb-21-run0130/cxidb-21-run0131/data1/LCLS_2013_Mar23_r0131_003823_b32b.h5 -g /home/tsachanowski/CrystFELL_tutorial/5HT2B-Liu-2013.geom\n",
    "# kolejny przyklad"
   ]
  },
  {
   "cell_type": "code",
   "execution_count": 173,
   "metadata": {},
   "outputs": [
    {
     "name": "stdout",
     "output_type": "stream",
     "text": [
      "cxidb-21-run0130/cxidb-21-run0132/data1/LCLS_2013_Mar23_r0132_010320_ec8b.h5\n",
      "cxidb-21-run0130/cxidb-21-run0132/data1/LCLS_2013_Mar23_r0132_010326_f4bf.h5\n",
      "cxidb-21-run0130/cxidb-21-run0132/data1/LCLS_2013_Mar23_r0132_010319_eb9b.h5\n",
      "cxidb-21-run0130/cxidb-21-run0132/data1/LCLS_2013_Mar23_r0132_010312_e1f9.h5\n",
      "cxidb-21-run0130/cxidb-21-run0132/data1/LCLS_2013_Mar23_r0132_010304_d69b.h5\n",
      "cxidb-21-run0130/cxidb-21-run0132/data1/LCLS_2013_Mar23_r0132_010335_10101.h5\n",
      "cxidb-21-run0130/cxidb-21-run0132/data1/LCLS_2013_Mar23_r0132_010334_ffdb.h5\n",
      "cxidb-21-run0130/cxidb-21-run0132/data1/LCLS_2013_Mar23_r0132_010335_101e5.h5\n",
      "cxidb-21-run0130/cxidb-21-run0132/data1/LCLS_2013_Mar23_r0132_010315_e553.h5\n",
      "cxidb-21-run0130/cxidb-21-run0132/data1/LCLS_2013_Mar23_r0132_010331_fc1b.h5\n",
      "64 /home/tsachanowski/CrystFELL_tutorial/files.lst\n"
     ]
    }
   ],
   "source": [
    "cd ~\n",
    "find cxidb-21-run013* -name 'LCLS*.h5' -print > /home/tsachanowski/CrystFELL_tutorial/files.lst\n",
    "head -n 10 /home/tsachanowski/CrystFELL_tutorial/files.lst\n",
    "wc -l /home/tsachanowski/CrystFELL_tutorial/files.lst\n",
    "# linki wszystkich plikow od tego pliku\n"
   ]
  },
  {
   "cell_type": "code",
   "execution_count": 1,
   "metadata": {
    "scrolled": true
   },
   "outputs": [
    {
     "name": "stdout",
     "output_type": "stream",
     "text": [
      "WARNING: You did not specify --int-radius.\n",
      "WARNING: I will use the default values, which are probably not appropriate for your patterns.\n",
      "Indexing/integration disabled.\n",
      "Waiting for the last patterns to be processed...\n",
      "Final: 64 images processed, 0 had crystals (0.0%), 0 crystals overall.\n"
     ]
    }
   ],
   "source": [
    "cd ~\n",
    "indexamajig -i /home/tsachanowski/CrystFELL_tutorial/files.lst -g /home/tsachanowski/CrystFELL_tutorial/5HT2B-Liu-2013.geom --peaks=hdf5 --indexing=none -o /home/tsachanowski/CrystFELL_tutorial/tutorial.stream"
   ]
  },
  {
   "cell_type": "code",
   "execution_count": 17,
   "metadata": {
    "scrolled": true
   },
   "outputs": [
    {
     "name": "stdout",
     "output_type": "stream",
     "text": [
      "Extra arguments for hdfsee: -g /home/tsachanowski/CrystFELL_tutorial/5HT2B-Liu-2013.geom --int-boost=5\n",
      "Viewing cxidb-21-run0130/cxidb-21-run0132/data1/LCLS_2013_Mar23_r0132_010320_ec8b.h5\n",
      "Viewing cxidb-21-run0130/cxidb-21-run0132/data1/LCLS_2013_Mar23_r0132_010326_f4bf.h5\n"
     ]
    }
   ],
   "source": [
    "# po pobraniu skryptu pubkt 5\n",
    "cd ~\n",
    "chmod +x /home/tsachanowski/CrystFELL_tutorial/check-peak-detection\n",
    "./CrystFELL_tutorial/check-peak-detection /home/tsachanowski/CrystFELL_tutorial/tutorial.stream -g /home/tsachanowski/CrystFELL_tutorial/5HT2B-Liu-2013.geom --int-boost=5\n",
    "# otwieraja sie te same obrazy z kolakmi oznaczajce minima\n"
   ]
  },
  {
   "cell_type": "code",
   "execution_count": 176,
   "metadata": {
    "scrolled": true
   },
   "outputs": [
    {
     "name": "stdout",
     "output_type": "stream",
     "text": [
      "\n",
      "HDFSEE(1)                   General Commands Manual                  HDFSEE(1)\n",
      "\n",
      "\u001b[1mNAME\u001b[0m\n",
      "       hdfsee - HDF5 image viewer\n",
      "\n",
      "\u001b[1mSYNOPSIS\u001b[0m\n",
      "       \u001b[1mhdfsee \u001b[4m\u001b[22mimage.h5\u001b[24m [\u001b[4moptions\u001b[24m] \u001b[1m...\u001b[0m\n",
      "\n",
      "       \u001b[1mhdfsee --help\u001b[0m\n",
      "\n",
      "\u001b[1mDESCRIPTION\u001b[0m\n",
      "       hdfsee is a simple image viewer for images stored in HDF5 files.\n",
      "\n",
      "       Most  of the options that can be set on the command line can be changed\n",
      "       via the user interface once the program is running.  The  command  line\n",
      "       options are to help when running hdfsee from a script.\n",
      "\n",
      "\u001b[1mOPTIONS\u001b[0m\n",
      "       \u001b[1m-p \u001b[4m\u001b[22mfilename\u001b[0m\n",
      "       \u001b[1m--peak-overlay=\u001b[4m\u001b[22mfilename\u001b[0m\n",
      "              Peak  locations  will be read from \u001b[4mfilename\u001b[24m and displayed on the\n",
      "              image.  The peak location file can use the format used in Cryst‐\n",
      "              FEL  stream  files  for  lists  of  integrated reflections, i.e.\n",
      "              including the Miller indices.  If a line cannot  be  read  using\n",
      "              this  format,  it will be assumed to be a simple two-column list\n",
      "              of fast scan and slow scan coordinates.   Any  text  beyond  the\n",
      "              second  column  will  be ignored.  If the line cannot be read in\n",
      "              either format, it will be ignored.\n",
      "\n",
      "       \u001b[1m--ring-size=\u001b[4m\u001b[22mradius\u001b[0m\n",
      "              Set the radius of the rings used for displaying peak  locations.\n",
      "              The  radius  is  given in pixels on the screen, i.e. the circles\n",
      "              are drawn \u001b[4mafter\u001b[24m binning the image data.\n",
      "\n",
      "       \u001b[1m-b \u001b[4m\u001b[22mb\u001b[0m\n",
      "       \u001b[1m--binning=\u001b[4m\u001b[22mb\u001b[0m\n",
      "              Show the image after binning down by a factor of \u001b[4mb\u001b[24m.\n",
      "\n",
      "       \u001b[1m-e \u001b[4m\u001b[22mpath\u001b[0m\n",
      "       \u001b[1m--image=\u001b[4m\u001b[22mpath\u001b[0m\n",
      "              Get the image data to display from \u001b[4mpath\u001b[24m inside  the  HDF5  file.\n",
      "              Example: \u001b[4m/data/rawdata\u001b[24m.\n",
      "\n",
      "              If  no geometry file is provided (see \u001b[1m-g\u001b[22m) and this option is not\n",
      "              used, hdfsee will display the first two-dimensional  dataset  it\n",
      "              finds  in  the  file with both dimensions greater than 64.  If a\n",
      "              geometry file is provided, the data layout description from  the\n",
      "              file  determines  which  image  is  displayed  (see   \u001b[1mman cryst‐\u001b[0m\n",
      "              \u001b[1mfel_geometry\u001b[22m).\n",
      "\n",
      "              If \u001b[1m-e \u001b[22mis used in combination with \u001b[1m-g\u001b[22m,  hdfsee  will  attempt  to\n",
      "              show  the specified dataset with the geometry applied.  The data\n",
      "              layout description from the geometry file will be  ignored,  the\n",
      "              data  block to be used as data source for all panels will be set\n",
      "              to \u001b[4mpath\u001b[24m and it will be assumed to be 2-dimensional.\n",
      "\n",
      "       \u001b[1m--event=\u001b[4m\u001b[22mID\u001b[0m\n",
      "              Show the event identified by \u001b[4mID\u001b[24m.   Use  this  when  you  have  a\n",
      "              multi-event HDF5 file and the corresponding geometry file.\n",
      "\n",
      "       \u001b[1m-g \u001b[4m\u001b[22mfilename\u001b[0m\n",
      "       \u001b[1m--geometry=\u001b[4m\u001b[22mfilename\u001b[0m\n",
      "              Display  the image data according to the geometry description in\n",
      "              \u001b[4mfilename\u001b[24m.  Out of plane  components  of  the  geometry  will  be\n",
      "              ignored.  This is required to display resolution rings.\n",
      "\n",
      "       \u001b[1m-i \u001b[4m\u001b[22mn\u001b[0m\n",
      "       \u001b[1m--int-boost=\u001b[4m\u001b[22mn\u001b[0m\n",
      "              Multiply  the  intensity  in  the  image by \u001b[4mn\u001b[24m before displaying.\n",
      "              With n=1, the top of the colour scale will represent the maximum\n",
      "              pixel intensity found in the image.\n",
      "\n",
      "       \u001b[1m--show-rings\u001b[0m\n",
      "              Show resolution rings on the image at 1 Angstrom intervals.  You\n",
      "              must provide both a geometry and a beam file to use this option.\n",
      "\n",
      "       \u001b[1m--simple-rings=\u001b[4m\u001b[22mradii\u001b[0m\n",
      "              Show rings on the image with the radii specified.  \u001b[4mradii\u001b[24m can  be\n",
      "              a comma-deliminated list of several values, for example \u001b[4m100,200\u001b[24m.\n",
      "              The radii have units of pixels on the detector  before  bininng.\n",
      "              You must provide a geometry file to use this option.\n",
      "\n",
      "       \u001b[1m-c \u001b[4m\u001b[22mscale\u001b[0m\n",
      "       \u001b[1m--colscale=\u001b[4m\u001b[22mscale\u001b[0m\n",
      "              Use  \u001b[4mscale\u001b[24m  as  the  colour  scale.   Possible scales are: \u001b[1mmono\u001b[22m,\n",
      "              \u001b[1minvmono \u001b[22mand \u001b[1mcolour\u001b[22m.\n",
      "\n",
      "       \u001b[1m--median-filter=\u001b[4m\u001b[22mn\u001b[0m\n",
      "              Apply a median filter with box \"radius\" \u001b[4mn\u001b[24m to  the  image.   Each\n",
      "              pixel will be set to the median of the values from a \u001b[4m(n+1)\u001b[24mx\u001b[4m(n+1)\u001b[0m\n",
      "              square centered on the pixel.  If you also  use  \u001b[1m--noise-filter\u001b[22m,\n",
      "              the median filter will be applied first.\n",
      "\n",
      "       \u001b[1m--filter-noise\u001b[0m\n",
      "              Apply  a  noise  filter  to the image with checks 3x3 squares of\n",
      "              pixels and sets all of them to zero if any of  the  nine  pixels\n",
      "              have  a  negative  value.   If you also use \u001b[1m--median-filter\u001b[22m, the\n",
      "              median filter will be applied first.\n",
      "\n",
      "       \u001b[1m-o \u001b[4m\u001b[22mcoll\u001b[0m\n",
      "       \u001b[1m--rigid-groups=\u001b[4m\u001b[22mcoll\u001b[0m\n",
      "              Use \u001b[4mcoll\u001b[24m as the rigid group collection for calibration mode.\n",
      "\n",
      "\u001b[1mCALIBRATION MODE\u001b[0m\n",
      "       Calibration mode allows you to visually adjust the locations of panels.\n",
      "       To  enter  calibration  mode,  select  Tools->Calibration Mode from the\n",
      "       menu.  The currently selected panel will be bordered in white.  Press +\n",
      "       or  -  to move to the next or previous panel (as listed in the geometry\n",
      "       file).  Use the arrow keys to move the current  panel.   Press  'f'  to\n",
      "       hide  or restore the white border.  Press 's' to save the geometry file\n",
      "       with your modifications.  Press 'g' to toggle between moving individual\n",
      "       panels, rigid groups (if any are defined in the geometry file) and mov‐\n",
      "       ing all panels together.  Most of these actions can  also  be  accessed\n",
      "       from  the  Calibration menu, which becomes aptive when calibration mode\n",
      "       is toggled once\n",
      "\n",
      "\u001b[1mEVENT NAVIGATION\u001b[0m\n",
      "       When multi-event files are opened,  the  Events  menu  in  the  menubar\n",
      "       becomes  active,  and some event navigation tools become available. The\n",
      "       title bar shows, in addition to the file name, the name  of  the  event\n",
      "       currently  displayed (See \u001b[1mman crystfel_geometry \u001b[22mand \u001b[1mman indexamajig \u001b[22mfor\n",
      "       a description of event naming). Press 'n' to move to the next event  in\n",
      "       the  file, and 'p' to move to the previous one'. Press 'e' to jump to a\n",
      "       specific event, by providing an event name (Use the \u001b[1mlist_events \u001b[22mprogram\n",
      "       to get a list of the events included in a file). Press 'r' to jump to a\n",
      "       random event. These actions are also accessible from the Events menu in\n",
      "       the menubar.\n",
      "\n",
      "\u001b[1mAUTHOR\u001b[0m\n",
      "       This page was written by Thomas White and Valerio Mariani.\n",
      "\n",
      "\u001b[1mREPORTING BUGS\u001b[0m\n",
      "       Report       bugs       to       <taw@physics.org>,       or      visit\n",
      "       <http://www.desy.de/~twhite/crystfel>.\n",
      "\n",
      "\u001b[1mCOPYRIGHT AND DISCLAIMER\u001b[0m\n",
      "       Copyright © 2012-2018 Deutsches Elektronen-Synchrotron DESY, a research\n",
      "       centre of the Helmholtz Association.\n",
      "\n",
      "       hdfsee, and this manual, are part of CrystFEL.\n",
      "\n",
      "       CrystFEL  is  free  software:  you can redistribute it and/or modify it\n",
      "       under the terms of the GNU General Public License as published  by  the\n",
      "       Free  Software Foundation, either version 3 of the License, or (at your\n",
      "       option) any later version.\n",
      "\n",
      "       CrystFEL is distributed in the hope that it will be useful, but WITHOUT\n",
      "       ANY  WARRANTY;  without even the implied warranty of MERCHANTABILITY or\n",
      "       FITNESS FOR A PARTICULAR PURPOSE.  See the GNU General  Public  License\n",
      "       for more details.\n",
      "\n",
      "       You should have received a copy of the GNU General Public License along\n",
      "       with CrystFEL.  If not, see <http://www.gnu.org/licenses/>.\n",
      "\n",
      "\u001b[1mSEE ALSO\u001b[0m\n",
      "       \u001b[1mcrystfel\u001b[22m(7), \u001b[1mpattern_sim\u001b[22m(1), \u001b[1mcrystfel_geometry\u001b[22m(5).\n",
      "\n",
      "                                                                     HDFSEE(1)\n"
     ]
    }
   ],
   "source": [
    "man hdfsee"
   ]
  },
  {
   "cell_type": "code",
   "execution_count": null,
   "metadata": {},
   "outputs": [],
   "source": []
  },
  {
   "cell_type": "markdown",
   "metadata": {},
   "source": [
    "# Mosflm\n"
   ]
  },
  {
   "cell_type": "code",
   "execution_count": 3,
   "metadata": {
    "scrolled": true
   },
   "outputs": [
    {
     "name": "stdout",
     "output_type": "stream",
     "text": [
      "No reference unit cell provided.\n",
      "WARNING: Forcing --no-check-cell because reference unit cell parameters were not given.\n",
      "WARNING: Forcing all indexing methods to use \"-nocell\", because reference cell parameters were not given.\n",
      "WARNING: Forcing all indexing methods to use \"-nolatt\", because reference Bravais lattice type was not given.\n",
      "List of indexing methods:\n",
      "   0: mosflm-nolatt-nocell      (mosflm - no prior information)\n",
      "Indexing parameters:\n",
      "                  Check unit cell parameters: off\n",
      "                        Check peak alignment: on\n",
      "                   Refine indexing solutions: on\n",
      " Multi-lattice indexing (\"delete and retry\"): off\n",
      "                              Retry indexing: on\n",
      "   3 indexable out of    3 processed (100.0%),    3 crystals so far.    3 images processed since the last message.\n",
      "   3 indexable out of    5 processed (60.0%),    3 crystals so far.    2 images processed since the last message.\n",
      "   6 indexable out of    9 processed (66.7%),    6 crystals so far.    4 images processed since the last message.\n",
      "   6 indexable out of   10 processed (60.0%),    6 crystals so far.    1 images processed since the last message.\n",
      "   6 indexable out of   10 processed (60.0%),    6 crystals so far.    0 images processed since the last message.\n",
      "   9 indexable out of   14 processed (64.3%),    9 crystals so far.    4 images processed since the last message.\n",
      "  13 indexable out of   18 processed (72.2%),   13 crystals so far.    4 images processed since the last message.\n",
      "  15 indexable out of   20 processed (75.0%),   15 crystals so far.    2 images processed since the last message.\n",
      "  17 indexable out of   23 processed (73.9%),   17 crystals so far.    3 images processed since the last message.\n",
      "  17 indexable out of   24 processed (70.8%),   17 crystals so far.    1 images processed since the last message.\n",
      "  18 indexable out of   26 processed (69.2%),   18 crystals so far.    2 images processed since the last message.\n",
      "  18 indexable out of   26 processed (69.2%),   18 crystals so far.    0 images processed since the last message.\n",
      "WARNING: Too few peaks to estimate resolution.\n",
      "  18 indexable out of   27 processed (66.7%),   18 crystals so far.    1 images processed since the last message.\n",
      "  18 indexable out of   27 processed (66.7%),   18 crystals so far.    0 images processed since the last message.\n",
      "  18 indexable out of   27 processed (66.7%),   18 crystals so far.    0 images processed since the last message.\n",
      "  18 indexable out of   27 processed (66.7%),   18 crystals so far.    0 images processed since the last message.\n",
      "  18 indexable out of   27 processed (66.7%),   18 crystals so far.    0 images processed since the last message.\n",
      "  18 indexable out of   27 processed (66.7%),   18 crystals so far.    0 images processed since the last message.\n",
      "  18 indexable out of   27 processed (66.7%),   18 crystals so far.    0 images processed since the last message.\n",
      "  18 indexable out of   27 processed (66.7%),   18 crystals so far.    0 images processed since the last message.\n",
      "  19 indexable out of   28 processed (67.9%),   19 crystals so far.    1 images processed since the last message.\n",
      "  21 indexable out of   30 processed (70.0%),   21 crystals so far.    2 images processed since the last message.\n",
      "  22 indexable out of   32 processed (68.8%),   22 crystals so far.    2 images processed since the last message.\n",
      "  23 indexable out of   33 processed (69.7%),   23 crystals so far.    1 images processed since the last message.\n",
      "  28 indexable out of   38 processed (73.7%),   28 crystals so far.    5 images processed since the last message.\n",
      "  29 indexable out of   39 processed (74.4%),   29 crystals so far.    1 images processed since the last message.\n",
      "  33 indexable out of   43 processed (76.7%),   33 crystals so far.    4 images processed since the last message.\n",
      "  37 indexable out of   47 processed (78.7%),   37 crystals so far.    4 images processed since the last message.\n",
      "  37 indexable out of   47 processed (78.7%),   37 crystals so far.    0 images processed since the last message.\n",
      "  37 indexable out of   48 processed (77.1%),   37 crystals so far.    1 images processed since the last message.\n",
      "  39 indexable out of   50 processed (78.0%),   39 crystals so far.    2 images processed since the last message.\n",
      "  42 indexable out of   54 processed (77.8%),   42 crystals so far.    4 images processed since the last message.\n",
      "  42 indexable out of   54 processed (77.8%),   42 crystals so far.    0 images processed since the last message.\n",
      "  42 indexable out of   54 processed (77.8%),   42 crystals so far.    0 images processed since the last message.\n",
      "  43 indexable out of   55 processed (78.2%),   43 crystals so far.    1 images processed since the last message.\n",
      "  43 indexable out of   56 processed (76.8%),   43 crystals so far.    1 images processed since the last message.\n",
      "  43 indexable out of   57 processed (75.4%),   43 crystals so far.    1 images processed since the last message.\n",
      "  44 indexable out of   59 processed (74.6%),   44 crystals so far.    2 images processed since the last message.\n",
      "  44 indexable out of   60 processed (73.3%),   44 crystals so far.    1 images processed since the last message.\n",
      "  44 indexable out of   60 processed (73.3%),   44 crystals so far.    0 images processed since the last message.\n",
      "  44 indexable out of   60 processed (73.3%),   44 crystals so far.    0 images processed since the last message.\n",
      "  44 indexable out of   60 processed (73.3%),   44 crystals so far.    0 images processed since the last message.\n",
      "  44 indexable out of   60 processed (73.3%),   44 crystals so far.    0 images processed since the last message.\n",
      "WARNING: 64 implausibly negative reflections in cxidb-21-run0130/cxidb-21-run0131/data1/LCLS_2013_Mar23_r0131_003717_55a7.h5 (none)\n",
      "  45 indexable out of   61 processed (73.8%),   45 crystals so far.    1 images processed since the last message.\n",
      "Waiting for the last patterns to be processed...\n",
      "Final: 64 images processed, 46 had crystals (71.9%), 46 crystals overall.\n"
     ]
    }
   ],
   "source": [
    "cd ~\n",
    "indexamajig -i /home/tsachanowski/CrystFELL_tutorial/files.lst -g /home/tsachanowski/CrystFELL_tutorial/5HT2B-Liu-2013.geom --peaks=hdf5 --indexing=mosflm --int-radius=3,4,5 -o /home/tsachanowski/CrystFELL_tutorial/tutorial2.stream"
   ]
  },
  {
   "cell_type": "code",
   "execution_count": 4,
   "metadata": {},
   "outputs": [
    {
     "name": "stdout",
     "output_type": "stream",
     "text": [
      "\u001b[0m\u001b[38;5;33manaconda3\u001b[0m             \u001b[38;5;33mDownloads\u001b[0m         \u001b[38;5;33mNCBJ-PRAKTYKI\u001b[0m           \u001b[38;5;33mSzablony\u001b[0m\n",
      "\u001b[38;5;33mCrystFELL_tutorial\u001b[0m    \u001b[38;5;33mindexamajig.3022\u001b[0m  \u001b[38;5;33mObrazy\u001b[0m                  \u001b[38;5;33mtmp\u001b[0m\n",
      "\u001b[38;5;33mcxidb-21-run0130\u001b[0m      \u001b[38;5;33mindexamajig.3828\u001b[0m  \u001b[38;5;33mPobrane\u001b[0m                 Untitled.ipynb\n",
      "\u001b[38;5;9mcxidb-21-run0130.tar\u001b[0m  \u001b[38;5;33mindexamajig.896\u001b[0m   \u001b[38;5;33mPubliczny\u001b[0m               \u001b[38;5;33mWideo\u001b[0m\n",
      "\u001b[38;5;33mdata_processing\u001b[0m       list.tmp          \u001b[38;5;33mPulpit\u001b[0m                  \u001b[38;5;33mworkspace\u001b[0m\n",
      "\u001b[38;5;33mdestination\u001b[0m           mosflm.lp         slf4j.simpleLogger.log\n",
      "\u001b[38;5;33mDokumenty\u001b[0m             \u001b[38;5;33mMuzyka\u001b[0m            SUMMARY\n",
      "Extra arguments for hdfsee: -g /home/tsachanowski/CrystFELL_tutorial/5HT2B-Liu-2013.geom --int-boost=5\n",
      "Viewing cxidb-21-run0130/cxidb-21-run0132/data1/LCLS_2013_Mar23_r0132_010320_ec8b.h5\n",
      "Viewing cxidb-21-run0130/cxidb-21-run0132/data1/LCLS_2013_Mar23_r0132_010326_f4bf.h5\n"
     ]
    }
   ],
   "source": [
    "cd ~; ls \n",
    "chmod +x /home/tsachanowski/CrystFELL_tutorial/check-peak-detection\n",
    "./CrystFELL_tutorial/check-peak-detection /home/tsachanowski/CrystFELL_tutorial/tutorial2.stream -g /home/tsachanowski/CrystFELL_tutorial/5HT2B-Liu-2013.geom --int-boost=5\n",
    "# otwieraja sie te same obrazy z kolakmi oznaczajce minima\n"
   ]
  },
  {
   "cell_type": "code",
   "execution_count": 112,
   "metadata": {
    "scrolled": true
   },
   "outputs": [
    {
     "name": "stdout",
     "output_type": "stream",
     "text": [
      "\u001b[01;31m\u001b[KCell parameters\u001b[m\u001b[K 6.09879 12.26397 16.71987 nm, 90.05237 89.89818 90.23523 deg\n",
      "\u001b[01;31m\u001b[KCell parameters\u001b[m\u001b[K 6.12093 12.18329 16.65691 nm, 89.87373 90.01071 90.23284 deg\n",
      "\u001b[01;31m\u001b[KCell parameters\u001b[m\u001b[K 6.27882 6.81207 16.18527 nm, 89.57789 97.35816 114.83331 deg\n",
      "\u001b[01;31m\u001b[KCell parameters\u001b[m\u001b[K 6.07787 12.18471 16.61400 nm, 89.98647 91.09240 89.77394 deg\n",
      "\u001b[01;31m\u001b[KCell parameters\u001b[m\u001b[K 6.71178 6.73141 33.96699 nm, 90.23859 89.58803 119.06394 deg\n",
      "\u001b[01;31m\u001b[KCell parameters\u001b[m\u001b[K 6.24527 16.75803 6.74319 nm, 89.90734 115.25471 89.94001 deg\n",
      "\u001b[01;31m\u001b[KCell parameters\u001b[m\u001b[K 6.10780 12.25637 16.68806 nm, 89.84692 90.13660 89.92562 deg\n",
      "\u001b[01;31m\u001b[KCell parameters\u001b[m\u001b[K 6.12908 12.21740 16.90402 nm, 89.40469 90.17641 89.97792 deg\n",
      "\u001b[01;31m\u001b[KCell parameters\u001b[m\u001b[K 6.16772 6.69708 16.71187 nm, 90.97745 90.32447 115.57758 deg\n",
      "\u001b[01;31m\u001b[KCell parameters\u001b[m\u001b[K 6.16745 12.24819 16.70594 nm, 89.78402 90.35177 89.92810 deg\n",
      "\u001b[01;31m\u001b[KCell parameters\u001b[m\u001b[K 11.86150 6.14078 16.67414 nm, 90.25411 93.11469 89.71839 deg\n",
      "\u001b[01;31m\u001b[KCell parameters\u001b[m\u001b[K 5.59629 6.43476 18.42445 nm, 80.00052 79.92906 68.71073 deg\n",
      "\u001b[01;31m\u001b[KCell parameters\u001b[m\u001b[K 6.14872 6.90745 34.05192 nm, 90.82573 90.77827 116.24339 deg\n",
      "\u001b[01;31m\u001b[KCell parameters\u001b[m\u001b[K 6.13481 12.20112 16.67948 nm, 89.88100 89.97319 90.25061 deg\n",
      "\u001b[01;31m\u001b[KCell parameters\u001b[m\u001b[K 6.11408 12.16278 16.68776 nm, 89.72044 89.92031 89.74712 deg\n",
      "\u001b[01;31m\u001b[KCell parameters\u001b[m\u001b[K 6.15588 6.82801 16.60867 nm, 90.43776 89.60286 64.19723 deg\n",
      "\u001b[01;31m\u001b[KCell parameters\u001b[m\u001b[K 6.10905 12.20627 16.73302 nm, 89.86525 90.01229 90.01077 deg\n",
      "\u001b[01;31m\u001b[KCell parameters\u001b[m\u001b[K 6.12085 12.24750 16.71559 nm, 90.38708 89.97646 89.98695 deg\n",
      "\u001b[01;31m\u001b[KCell parameters\u001b[m\u001b[K 24.87349 41.65806 46.78991 nm, 91.74017 104.18861 97.06296 deg\n",
      "\u001b[01;31m\u001b[KCell parameters\u001b[m\u001b[K 6.82642 10.97754 17.92872 nm, 104.28230 96.28371 97.68369 deg\n",
      "\u001b[01;31m\u001b[KCell parameters\u001b[m\u001b[K 6.07773 6.79699 16.65546 nm, 88.38970 89.33025 64.03716 deg\n",
      "\u001b[01;31m\u001b[KCell parameters\u001b[m\u001b[K 6.13507 12.20413 16.78530 nm, 89.64349 90.27427 90.24942 deg\n",
      "\u001b[01;31m\u001b[KCell parameters\u001b[m\u001b[K 6.12628 12.16610 16.58901 nm, 90.27128 90.22562 90.04949 deg\n",
      "\u001b[01;31m\u001b[KCell parameters\u001b[m\u001b[K 43.38848 6.87175 42.29635 nm, 90.05902 112.40812 90.02130 deg\n",
      "\u001b[01;31m\u001b[KCell parameters\u001b[m\u001b[K 6.07319 12.19919 16.68717 nm, 89.81832 90.36335 90.06208 deg\n",
      "\u001b[01;31m\u001b[KCell parameters\u001b[m\u001b[K 6.11714 12.15527 16.66175 nm, 89.28771 89.96378 90.05261 deg\n",
      "\u001b[01;31m\u001b[KCell parameters\u001b[m\u001b[K 6.14882 12.20180 16.61812 nm, 89.94069 89.96989 90.06683 deg\n",
      "\u001b[01;31m\u001b[KCell parameters\u001b[m\u001b[K 6.00764 6.80339 16.72765 nm, 89.87456 85.08070 65.08955 deg\n",
      "\u001b[01;31m\u001b[KCell parameters\u001b[m\u001b[K 6.14501 6.81579 16.01299 nm, 92.54282 91.02257 116.29402 deg\n",
      "\u001b[01;31m\u001b[KCell parameters\u001b[m\u001b[K 6.78960 16.24028 17.80855 nm, 73.13114 81.29048 85.63483 deg\n",
      "\u001b[01;31m\u001b[KCell parameters\u001b[m\u001b[K 6.10065 12.17004 16.67277 nm, 89.98160 89.97453 90.15027 deg\n",
      "\u001b[01;31m\u001b[KCell parameters\u001b[m\u001b[K 6.11345 12.16562 16.68367 nm, 89.98636 90.02119 90.03961 deg\n",
      "\u001b[01;31m\u001b[KCell parameters\u001b[m\u001b[K 6.14057 12.21257 16.70104 nm, 90.02765 89.90074 89.91616 deg\n",
      "\u001b[01;31m\u001b[KCell parameters\u001b[m\u001b[K 6.09933 12.09132 16.53835 nm, 89.88152 90.48246 89.56287 deg\n",
      "\u001b[01;31m\u001b[KCell parameters\u001b[m\u001b[K 6.70551 10.91198 17.46479 nm, 105.78035 97.20259 98.04249 deg\n",
      "\u001b[01;31m\u001b[KCell parameters\u001b[m\u001b[K 6.13942 12.21008 33.75222 nm, 89.88264 89.96927 89.80069 deg\n",
      "\u001b[01;31m\u001b[KCell parameters\u001b[m\u001b[K 6.14856 6.79821 16.68142 nm, 89.44134 90.45401 63.11982 deg\n"
     ]
    }
   ],
   "source": [
    "grep \"Cell parameters\" /home/tsachanowski/CrystFELL_tutorial/tutorial2.stream"
   ]
  },
  {
   "cell_type": "code",
   "execution_count": 113,
   "metadata": {
    "scrolled": true
   },
   "outputs": [
    {
     "name": "stdout",
     "output_type": "stream",
     "text": [
      "\u001b[01;31m\u001b[Kcentering\u001b[m\u001b[K = C\n",
      "\u001b[01;31m\u001b[Kcentering\u001b[m\u001b[K = C\n",
      "\u001b[01;31m\u001b[Kcentering\u001b[m\u001b[K = P\n",
      "\u001b[01;31m\u001b[Kcentering\u001b[m\u001b[K = C\n",
      "\u001b[01;31m\u001b[Kcentering\u001b[m\u001b[K = P\n",
      "\u001b[01;31m\u001b[Kcentering\u001b[m\u001b[K = P\n",
      "\u001b[01;31m\u001b[Kcentering\u001b[m\u001b[K = C\n",
      "\u001b[01;31m\u001b[Kcentering\u001b[m\u001b[K = C\n",
      "\u001b[01;31m\u001b[Kcentering\u001b[m\u001b[K = P\n",
      "\u001b[01;31m\u001b[Kcentering\u001b[m\u001b[K = C\n",
      "\u001b[01;31m\u001b[Kcentering\u001b[m\u001b[K = C\n",
      "\u001b[01;31m\u001b[Kcentering\u001b[m\u001b[K = P\n",
      "\u001b[01;31m\u001b[Kcentering\u001b[m\u001b[K = P\n",
      "\u001b[01;31m\u001b[Kcentering\u001b[m\u001b[K = C\n",
      "\u001b[01;31m\u001b[Kcentering\u001b[m\u001b[K = C\n",
      "\u001b[01;31m\u001b[Kcentering\u001b[m\u001b[K = P\n",
      "\u001b[01;31m\u001b[Kcentering\u001b[m\u001b[K = C\n",
      "\u001b[01;31m\u001b[Kcentering\u001b[m\u001b[K = C\n",
      "\u001b[01;31m\u001b[Kcentering\u001b[m\u001b[K = P\n",
      "\u001b[01;31m\u001b[Kcentering\u001b[m\u001b[K = P\n",
      "\u001b[01;31m\u001b[Kcentering\u001b[m\u001b[K = P\n",
      "\u001b[01;31m\u001b[Kcentering\u001b[m\u001b[K = C\n",
      "\u001b[01;31m\u001b[Kcentering\u001b[m\u001b[K = C\n",
      "\u001b[01;31m\u001b[Kcentering\u001b[m\u001b[K = C\n",
      "\u001b[01;31m\u001b[Kcentering\u001b[m\u001b[K = C\n",
      "\u001b[01;31m\u001b[Kcentering\u001b[m\u001b[K = C\n",
      "\u001b[01;31m\u001b[Kcentering\u001b[m\u001b[K = C\n",
      "\u001b[01;31m\u001b[Kcentering\u001b[m\u001b[K = P\n",
      "\u001b[01;31m\u001b[Kcentering\u001b[m\u001b[K = P\n",
      "\u001b[01;31m\u001b[Kcentering\u001b[m\u001b[K = P\n",
      "\u001b[01;31m\u001b[Kcentering\u001b[m\u001b[K = C\n",
      "\u001b[01;31m\u001b[Kcentering\u001b[m\u001b[K = C\n",
      "\u001b[01;31m\u001b[Kcentering\u001b[m\u001b[K = C\n",
      "\u001b[01;31m\u001b[Kcentering\u001b[m\u001b[K = C\n",
      "\u001b[01;31m\u001b[Kcentering\u001b[m\u001b[K = P\n",
      "\u001b[01;31m\u001b[Kcentering\u001b[m\u001b[K = C\n",
      "\u001b[01;31m\u001b[Kcentering\u001b[m\u001b[K = P\n"
     ]
    }
   ],
   "source": [
    "grep \"centering\" /home/tsachanowski/CrystFELL_tutorial/tutorial2.stream"
   ]
  },
  {
   "cell_type": "code",
   "execution_count": 7,
   "metadata": {
    "scrolled": true
   },
   "outputs": [
    {
     "name": "stdout",
     "output_type": "stream",
     "text": [
      "Loaded 46 cells from 64 chunks\n",
      "\n",
      "Selected 46 of 46 cells\n",
      "Selected 40 of 46 cells\n",
      "Fitted: 0.00 90.61 -1.50 after 4 iterations\n",
      "Selected 40 of 46 cells\n",
      "Fitted: 0.00 90.61 -1.50 after 4 iterations\n",
      "Fitted: 13.18 90.12 0.46 after 10 iterations\n",
      "Selected 9 of 46 cells\n",
      "Fitted: -0.00 89.38 -4.07 after 4 iterations\n",
      "Fitted: 1.35 89.93 0.83 after 10 iterations\n",
      "Fitted: 1.85 64.01 1.42 after 10 iterations\n"
     ]
    }
   ],
   "source": [
    "cell_explorer /home/tsachanowski/CrystFELL_tutorial/tutorial2.stream"
   ]
  },
  {
   "cell_type": "markdown",
   "metadata": {},
   "source": [
    "# 8 podpunkt z tutorialu\n",
    "\n"
   ]
  },
  {
   "cell_type": "code",
   "execution_count": 8,
   "metadata": {
    "scrolled": true
   },
   "outputs": [
    {
     "name": "stdout",
     "output_type": "stream",
     "text": [
      "This is what I understood your unit cell to be:\n",
      "orthorhombic C, unique axis ?.\n",
      "Unit cell parameters are not specified.\n",
      "WARNING: Forcing --no-check-cell because reference unit cell parameters were not given.\n",
      "WARNING: Forcing all indexing methods to use \"-nocell\", because reference cell parameters were not given.\n",
      "List of indexing methods:\n",
      "   0: mosflm-latt-nocell        (mosflm using Bravais lattice type as prior information)\n",
      "Indexing parameters:\n",
      "                  Check unit cell parameters: off\n",
      "                        Check peak alignment: on\n",
      "                   Refine indexing solutions: on\n",
      " Multi-lattice indexing (\"delete and retry\"): off\n",
      "                              Retry indexing: on\n",
      "   2 indexable out of    3 processed (66.7%),    2 crystals so far.    3 images processed since the last message.\n",
      "   2 indexable out of    4 processed (50.0%),    2 crystals so far.    1 images processed since the last message.\n",
      "   3 indexable out of    8 processed (37.5%),    3 crystals so far.    4 images processed since the last message.\n",
      "   3 indexable out of    9 processed (33.3%),    3 crystals so far.    1 images processed since the last message.\n",
      "   3 indexable out of   10 processed (30.0%),    3 crystals so far.    1 images processed since the last message.\n",
      "   3 indexable out of   11 processed (27.3%),    3 crystals so far.    1 images processed since the last message.\n",
      "   6 indexable out of   14 processed (42.9%),    6 crystals so far.    3 images processed since the last message.\n",
      "   6 indexable out of   17 processed (35.3%),    6 crystals so far.    3 images processed since the last message.\n",
      "   6 indexable out of   19 processed (31.6%),    6 crystals so far.    2 images processed since the last message.\n",
      "   7 indexable out of   20 processed (35.0%),    7 crystals so far.    1 images processed since the last message.\n",
      "   7 indexable out of   21 processed (33.3%),    7 crystals so far.    1 images processed since the last message.\n",
      "   8 indexable out of   23 processed (34.8%),    8 crystals so far.    2 images processed since the last message.\n",
      "   8 indexable out of   24 processed (33.3%),    8 crystals so far.    1 images processed since the last message.\n",
      "   8 indexable out of   26 processed (30.8%),    8 crystals so far.    2 images processed since the last message.\n",
      "   8 indexable out of   26 processed (30.8%),    8 crystals so far.    0 images processed since the last message.\n",
      "   8 indexable out of   28 processed (28.6%),    8 crystals so far.    2 images processed since the last message.\n",
      "   8 indexable out of   29 processed (27.6%),    8 crystals so far.    1 images processed since the last message.\n",
      "   8 indexable out of   31 processed (25.8%),    8 crystals so far.    2 images processed since the last message.\n",
      "   9 indexable out of   35 processed (25.7%),    9 crystals so far.    4 images processed since the last message.\n",
      "  11 indexable out of   37 processed (29.7%),   11 crystals so far.    2 images processed since the last message.\n",
      "  11 indexable out of   39 processed (28.2%),   11 crystals so far.    2 images processed since the last message.\n",
      "  11 indexable out of   40 processed (27.5%),   11 crystals so far.    1 images processed since the last message.\n",
      "  11 indexable out of   44 processed (25.0%),   11 crystals so far.    4 images processed since the last message.\n",
      "  13 indexable out of   47 processed (27.7%),   13 crystals so far.    3 images processed since the last message.\n",
      "  13 indexable out of   47 processed (27.7%),   13 crystals so far.    0 images processed since the last message.\n",
      "  13 indexable out of   48 processed (27.1%),   13 crystals so far.    1 images processed since the last message.\n",
      "  13 indexable out of   50 processed (26.0%),   13 crystals so far.    2 images processed since the last message.\n",
      "  13 indexable out of   52 processed (25.0%),   13 crystals so far.    2 images processed since the last message.\n",
      "  13 indexable out of   53 processed (24.5%),   13 crystals so far.    1 images processed since the last message.\n",
      "  13 indexable out of   54 processed (24.1%),   13 crystals so far.    1 images processed since the last message.\n",
      "  13 indexable out of   55 processed (23.6%),   13 crystals so far.    1 images processed since the last message.\n",
      "  13 indexable out of   56 processed (23.2%),   13 crystals so far.    1 images processed since the last message.\n",
      "  14 indexable out of   59 processed (23.7%),   14 crystals so far.    3 images processed since the last message.\n",
      "  14 indexable out of   59 processed (23.7%),   14 crystals so far.    0 images processed since the last message.\n",
      "  14 indexable out of   61 processed (23.0%),   14 crystals so far.    2 images processed since the last message.\n",
      "Waiting for the last patterns to be processed...\n",
      "Final: 64 images processed, 14 had crystals (21.9%), 14 crystals overall.\n"
     ]
    }
   ],
   "source": [
    "cd ~\n",
    "indexamajig -i /home/tsachanowski/CrystFELL_tutorial/files.lst -g /home/tsachanowski/CrystFELL_tutorial/5HT2B-Liu-2013.geom --peaks=hdf5 --indexing=mosflm --int-radius=3,4,5 -p /home/tsachanowski/CrystFELL_tutorial/5HT2B.cell -o /home/tsachanowski/CrystFELL_tutorial/tutorial3.stream"
   ]
  },
  {
   "cell_type": "code",
   "execution_count": 9,
   "metadata": {},
   "outputs": [
    {
     "name": "stdout",
     "output_type": "stream",
     "text": [
      "\u001b[01;31m\u001b[KCell parameters\u001b[m\u001b[K 6.08354 6.71424 16.72633 nm, 90.13709 89.76273 90.18171 deg\n",
      "\u001b[01;31m\u001b[KCell parameters\u001b[m\u001b[K 6.11675 6.79979 16.98019 nm, 90.12514 90.46060 90.32087 deg\n",
      "\u001b[01;31m\u001b[KCell parameters\u001b[m\u001b[K 6.02759 6.52499 16.66160 nm, 89.94875 89.51862 90.01951 deg\n",
      "\u001b[01;31m\u001b[KCell parameters\u001b[m\u001b[K 6.36133 11.16492 16.60148 nm, 90.85227 90.08487 88.88058 deg\n",
      "\u001b[01;31m\u001b[KCell parameters\u001b[m\u001b[K 6.19550 6.82299 17.03732 nm, 89.78151 91.38708 90.47714 deg\n",
      "\u001b[01;31m\u001b[KCell parameters\u001b[m\u001b[K 6.38043 6.82271 16.83687 nm, 89.74450 90.72806 90.26427 deg\n",
      "\u001b[01;31m\u001b[KCell parameters\u001b[m\u001b[K 6.24712 6.81597 16.64878 nm, 89.42212 90.70337 90.06825 deg\n",
      "\u001b[01;31m\u001b[KCell parameters\u001b[m\u001b[K 7.05713 6.70805 16.77175 nm, 89.68152 89.83392 89.74860 deg\n",
      "\u001b[01;31m\u001b[KCell parameters\u001b[m\u001b[K 5.95076 6.84107 16.31991 nm, 89.61000 91.04567 90.82696 deg\n",
      "\u001b[01;31m\u001b[KCell parameters\u001b[m\u001b[K 6.23992 6.80433 16.52629 nm, 90.14460 88.98423 90.55446 deg\n",
      "\u001b[01;31m\u001b[KCell parameters\u001b[m\u001b[K 6.41103 6.91212 16.33815 nm, 89.03294 90.22447 89.61029 deg\n",
      "\u001b[01;31m\u001b[KCell parameters\u001b[m\u001b[K 6.19362 6.98149 33.75312 nm, 90.04279 90.77403 89.95836 deg\n",
      "\u001b[01;31m\u001b[KCell parameters\u001b[m\u001b[K 6.00064 6.84050 16.45908 nm, 89.31339 90.51575 89.79221 deg\n",
      "\u001b[01;31m\u001b[KCell parameters\u001b[m\u001b[K 6.08351 6.91017 17.12318 nm, 89.26283 89.24698 89.77272 deg\n"
     ]
    }
   ],
   "source": [
    "grep \"Cell parameters\" /home/tsachanowski/CrystFELL_tutorial/tutorial3.stream"
   ]
  },
  {
   "cell_type": "code",
   "execution_count": 10,
   "metadata": {},
   "outputs": [
    {
     "name": "stdout",
     "output_type": "stream",
     "text": [
      "\u001b[01;31m\u001b[Klattice_type\u001b[m\u001b[K = orthorhombic\n",
      "\u001b[01;31m\u001b[Klattice_type\u001b[m\u001b[K = orthorhombic\n",
      "\u001b[01;31m\u001b[Klattice_type\u001b[m\u001b[K = orthorhombic\n",
      "\u001b[01;31m\u001b[Klattice_type\u001b[m\u001b[K = orthorhombic\n",
      "\u001b[01;31m\u001b[Klattice_type\u001b[m\u001b[K = orthorhombic\n",
      "\u001b[01;31m\u001b[Klattice_type\u001b[m\u001b[K = orthorhombic\n",
      "\u001b[01;31m\u001b[Klattice_type\u001b[m\u001b[K = orthorhombic\n",
      "\u001b[01;31m\u001b[Klattice_type\u001b[m\u001b[K = orthorhombic\n",
      "\u001b[01;31m\u001b[Klattice_type\u001b[m\u001b[K = orthorhombic\n",
      "\u001b[01;31m\u001b[Klattice_type\u001b[m\u001b[K = orthorhombic\n",
      "\u001b[01;31m\u001b[Klattice_type\u001b[m\u001b[K = orthorhombic\n",
      "\u001b[01;31m\u001b[Klattice_type\u001b[m\u001b[K = orthorhombic\n",
      "\u001b[01;31m\u001b[Klattice_type\u001b[m\u001b[K = orthorhombic\n",
      "\u001b[01;31m\u001b[Klattice_type\u001b[m\u001b[K = orthorhombic\n",
      "\u001b[01;31m\u001b[Klattice_type\u001b[m\u001b[K = orthorhombic\n"
     ]
    }
   ],
   "source": [
    "grep \"lattice_type\" /home/tsachanowski/CrystFELL_tutorial/tutorial3.stream"
   ]
  },
  {
   "cell_type": "code",
   "execution_count": 11,
   "metadata": {
    "scrolled": true
   },
   "outputs": [
    {
     "name": "stdout",
     "output_type": "stream",
     "text": [
      "\u001b[01;31m\u001b[Kcentering\u001b[m\u001b[K = C\n",
      "\u001b[01;31m\u001b[Kcentering\u001b[m\u001b[K = C\n",
      "\u001b[01;31m\u001b[Kcentering\u001b[m\u001b[K = C\n",
      "\u001b[01;31m\u001b[Kcentering\u001b[m\u001b[K = C\n",
      "\u001b[01;31m\u001b[Kcentering\u001b[m\u001b[K = C\n",
      "\u001b[01;31m\u001b[Kcentering\u001b[m\u001b[K = C\n",
      "\u001b[01;31m\u001b[Kcentering\u001b[m\u001b[K = C\n",
      "\u001b[01;31m\u001b[Kcentering\u001b[m\u001b[K = C\n",
      "\u001b[01;31m\u001b[Kcentering\u001b[m\u001b[K = C\n",
      "\u001b[01;31m\u001b[Kcentering\u001b[m\u001b[K = C\n",
      "\u001b[01;31m\u001b[Kcentering\u001b[m\u001b[K = C\n",
      "\u001b[01;31m\u001b[Kcentering\u001b[m\u001b[K = C\n",
      "\u001b[01;31m\u001b[Kcentering\u001b[m\u001b[K = C\n",
      "\u001b[01;31m\u001b[Kcentering\u001b[m\u001b[K = C\n",
      "\u001b[01;31m\u001b[Kcentering\u001b[m\u001b[K = C\n"
     ]
    }
   ],
   "source": [
    "grep \"centering\" /home/tsachanowski/CrystFELL_tutorial/tutorial3.stream"
   ]
  },
  {
   "cell_type": "code",
   "execution_count": 12,
   "metadata": {
    "scrolled": true
   },
   "outputs": [
    {
     "name": "stdout",
     "output_type": "stream",
     "text": [
      "Loaded 14 cells from 64 chunks\n",
      "\n",
      "Selected 14 of 14 cells\n",
      "Selected 14 of 14 cells\n",
      "Fitted: 0.17 90.37 1.45 after 6 iterations\n",
      "Selected 13 of 14 cells\n",
      "Fitted: 3.60 165.60 4.56 after 7 iterations\n",
      "Fitted: 0.15 90.25 1.55 after 6 iterations\n",
      "Selected 12 of 14 cells\n",
      "Fitted: 8.97 68.13 0.22 after 10 iterations\n",
      "Fitted: 3.14 165.28 5.42 after 8 iterations\n",
      "Fitted: 0.13 90.35 2.29 after 7 iterations\n",
      "Selected 12 of 14 cells\n",
      "Fitted: 0.04 68.75 -7.76 after 10 iterations\n",
      "Fitted: 8.97 68.13 0.22 after 10 iterations\n",
      "Fitted: 3.14 165.28 5.42 after 8 iterations\n",
      "Fitted: 0.13 90.35 2.29 after 10 iterations\n",
      "Selected 11 of 14 cells\n",
      "Fitted: 0.30 61.29 2.52 after 8 iterations\n",
      "Fitted: 8.97 68.13 0.22 after 10 iterations\n",
      "Fitted: 3.08 163.61 6.75 after 6 iterations\n",
      "Fitted: 0.12 91.50 4.70 after 10 iterations\n",
      "Selected 11 of 14 cells\n",
      "Fitted: 0.30 61.29 2.52 after 8 iterations\n",
      "Fitted: 8.97 68.13 0.22 after 10 iterations\n",
      "Fitted: 3.08 163.61 6.75 after 6 iterations\n",
      "Fitted: 0.18 89.73 0.78 after 9 iterations\n",
      "Fitted: 0.12 91.50 4.70 after 10 iterations\n"
     ]
    }
   ],
   "source": [
    "cell_explorer /home/tsachanowski/CrystFELL_tutorial/tutorial3.stream"
   ]
  },
  {
   "cell_type": "code",
   "execution_count": 13,
   "metadata": {},
   "outputs": [
    {
     "name": "stdout",
     "output_type": "stream",
     "text": [
      "\u001b[01;31m\u001b[Kpredict_refine/det_shift\u001b[m\u001b[K x = -0.235 y = 0.167 mm\n",
      "\u001b[01;31m\u001b[Kpredict_refine/det_shift\u001b[m\u001b[K x = 0.055 y = -0.273 mm\n",
      "\u001b[01;31m\u001b[Kpredict_refine/det_shift\u001b[m\u001b[K x = -0.119 y = -0.358 mm\n",
      "\u001b[01;31m\u001b[Kpredict_refine/det_shift\u001b[m\u001b[K x = -0.078 y = -0.105 mm\n",
      "\u001b[01;31m\u001b[Kpredict_refine/det_shift\u001b[m\u001b[K x = -0.147 y = 0.146 mm\n",
      "\u001b[01;31m\u001b[Kpredict_refine/det_shift\u001b[m\u001b[K x = -0.026 y = -0.391 mm\n",
      "\u001b[01;31m\u001b[Kpredict_refine/det_shift\u001b[m\u001b[K x = -0.109 y = -0.243 mm\n",
      "\u001b[01;31m\u001b[Kpredict_refine/det_shift\u001b[m\u001b[K x = -0.229 y = 0.130 mm\n",
      "\u001b[01;31m\u001b[Kpredict_refine/det_shift\u001b[m\u001b[K x = 0.229 y = -0.284 mm\n",
      "\u001b[01;31m\u001b[Kpredict_refine/det_shift\u001b[m\u001b[K x = -0.011 y = -0.001 mm\n",
      "\u001b[01;31m\u001b[Kpredict_refine/det_shift\u001b[m\u001b[K x = 0.020 y = -0.009 mm\n",
      "\u001b[01;31m\u001b[Kpredict_refine/det_shift\u001b[m\u001b[K x = -0.039 y = 0.023 mm\n",
      "\u001b[01;31m\u001b[Kpredict_refine/det_shift\u001b[m\u001b[K x = -0.224 y = 0.180 mm\n",
      "\u001b[01;31m\u001b[Kpredict_refine/det_shift\u001b[m\u001b[K x = -0.083 y = 0.106 mm\n"
     ]
    }
   ],
   "source": [
    "grep \"predict_refine/det_shift\" /home/tsachanowski/CrystFELL_tutorial/tutorial3.stream"
   ]
  },
  {
   "cell_type": "code",
   "execution_count": 14,
   "metadata": {
    "scrolled": true
   },
   "outputs": [
    {
     "name": "stdout",
     "output_type": "stream",
     "text": [
      "\u001b[0m\u001b[38;5;33manaconda3\u001b[0m             \u001b[38;5;33mDownloads\u001b[0m         \u001b[38;5;33mMuzyka\u001b[0m                  SUMMARY\n",
      "\u001b[38;5;33mCrystFELL_tutorial\u001b[0m    \u001b[38;5;33mindexamajig.3022\u001b[0m  \u001b[38;5;33mNCBJ-PRAKTYKI\u001b[0m           \u001b[38;5;33mSzablony\u001b[0m\n",
      "\u001b[38;5;33mcxidb-21-run0130\u001b[0m      \u001b[38;5;33mindexamajig.3828\u001b[0m  \u001b[38;5;33mObrazy\u001b[0m                  \u001b[38;5;33mtmp\u001b[0m\n",
      "\u001b[38;5;9mcxidb-21-run0130.tar\u001b[0m  \u001b[38;5;33mindexamajig.6642\u001b[0m  \u001b[38;5;33mPobrane\u001b[0m                 Untitled.ipynb\n",
      "\u001b[38;5;33mdata_processing\u001b[0m       \u001b[38;5;33mindexamajig.896\u001b[0m   \u001b[38;5;33mPubliczny\u001b[0m               \u001b[38;5;33mWideo\u001b[0m\n",
      "\u001b[38;5;33mdestination\u001b[0m           list.tmp          \u001b[38;5;33mPulpit\u001b[0m                  \u001b[38;5;33mworkspace\u001b[0m\n",
      "\u001b[38;5;33mDokumenty\u001b[0m             mosflm.lp         slf4j.simpleLogger.log\n",
      "Mean shifts: dx = -0.071 mm,  dy = -0.065 mm\n"
     ]
    }
   ],
   "source": [
    "cd ~ ;ls\n",
    "chmod +x /home/tsachanowski/CrystFELL_tutorial/detector-shift\n",
    "./CrystFELL_tutorial/detector-shift /home/tsachanowski/CrystFELL_tutorial/tutorial3.stream"
   ]
  },
  {
   "cell_type": "code",
   "execution_count": 15,
   "metadata": {
    "scrolled": true
   },
   "outputs": [
    {
     "name": "stdout",
     "output_type": "stream",
     "text": [
      "Mean shifts: dx = -0.071 mm,  dy = -0.065 mm\n",
      "Applying corrections to /home/tsachanowski/CrystFELL_tutorial/5HT2B-Liu-2013.geom, output filename /home/tsachanowski/CrystFELL_tutorial/5HT2B-Liu-2013-predrefine.geom\n",
      "Using default resolution (9097.525473 px/m) for panel q0a0\n",
      "Using default resolution (9097.525473 px/m) for panel q0a0\n",
      "Using default resolution (9097.525473 px/m) for panel q0a1\n",
      "Using default resolution (9097.525473 px/m) for panel q0a1\n",
      "Using default resolution (9097.525473 px/m) for panel q0a2\n",
      "Using default resolution (9097.525473 px/m) for panel q0a2\n",
      "Using default resolution (9097.525473 px/m) for panel q0a3\n",
      "Using default resolution (9097.525473 px/m) for panel q0a3\n",
      "Using default resolution (9097.525473 px/m) for panel q0a4\n",
      "Using default resolution (9097.525473 px/m) for panel q0a4\n",
      "Using default resolution (9097.525473 px/m) for panel q0a5\n",
      "Using default resolution (9097.525473 px/m) for panel q0a5\n",
      "Using default resolution (9097.525473 px/m) for panel q0a6\n",
      "Using default resolution (9097.525473 px/m) for panel q0a6\n",
      "Using default resolution (9097.525473 px/m) for panel q0a7\n",
      "Using default resolution (9097.525473 px/m) for panel q0a7\n",
      "Using default resolution (9097.525473 px/m) for panel q0a8\n",
      "Using default resolution (9097.525473 px/m) for panel q0a8\n",
      "Using default resolution (9097.525473 px/m) for panel q0a9\n",
      "Using default resolution (9097.525473 px/m) for panel q0a9\n",
      "Using default resolution (9097.525473 px/m) for panel q0a10\n",
      "Using default resolution (9097.525473 px/m) for panel q0a10\n",
      "Using default resolution (9097.525473 px/m) for panel q0a11\n",
      "Using default resolution (9097.525473 px/m) for panel q0a11\n",
      "Using default resolution (9097.525473 px/m) for panel q0a12\n",
      "Using default resolution (9097.525473 px/m) for panel q0a12\n",
      "Using default resolution (9097.525473 px/m) for panel q0a13\n",
      "Using default resolution (9097.525473 px/m) for panel q0a13\n",
      "Using default resolution (9097.525473 px/m) for panel q0a14\n",
      "Using default resolution (9097.525473 px/m) for panel q0a14\n",
      "Using default resolution (9097.525473 px/m) for panel q0a15\n",
      "Using default resolution (9097.525473 px/m) for panel q0a15\n",
      "Using default resolution (9097.525473 px/m) for panel q1a0\n",
      "Using default resolution (9097.525473 px/m) for panel q1a0\n",
      "Using default resolution (9097.525473 px/m) for panel q1a1\n",
      "Using default resolution (9097.525473 px/m) for panel q1a1\n",
      "Using default resolution (9097.525473 px/m) for panel q1a2\n",
      "Using default resolution (9097.525473 px/m) for panel q1a2\n",
      "Using default resolution (9097.525473 px/m) for panel q1a3\n",
      "Using default resolution (9097.525473 px/m) for panel q1a3\n",
      "Using default resolution (9097.525473 px/m) for panel q1a4\n",
      "Using default resolution (9097.525473 px/m) for panel q1a4\n",
      "Using default resolution (9097.525473 px/m) for panel q1a5\n",
      "Using default resolution (9097.525473 px/m) for panel q1a5\n",
      "Using default resolution (9097.525473 px/m) for panel q1a6\n",
      "Using default resolution (9097.525473 px/m) for panel q1a6\n",
      "Using default resolution (9097.525473 px/m) for panel q1a7\n",
      "Using default resolution (9097.525473 px/m) for panel q1a7\n",
      "Using default resolution (9097.525473 px/m) for panel q1a8\n",
      "Using default resolution (9097.525473 px/m) for panel q1a8\n",
      "Using default resolution (9097.525473 px/m) for panel q1a9\n",
      "Using default resolution (9097.525473 px/m) for panel q1a9\n",
      "Using default resolution (9097.525473 px/m) for panel q1a10\n",
      "Using default resolution (9097.525473 px/m) for panel q1a10\n",
      "Using default resolution (9097.525473 px/m) for panel q1a11\n",
      "Using default resolution (9097.525473 px/m) for panel q1a11\n",
      "Using default resolution (9097.525473 px/m) for panel q1a12\n",
      "Using default resolution (9097.525473 px/m) for panel q1a12\n",
      "Using default resolution (9097.525473 px/m) for panel q1a13\n",
      "Using default resolution (9097.525473 px/m) for panel q1a13\n",
      "Using default resolution (9097.525473 px/m) for panel q1a14\n",
      "Using default resolution (9097.525473 px/m) for panel q1a14\n",
      "Using default resolution (9097.525473 px/m) for panel q1a15\n",
      "Using default resolution (9097.525473 px/m) for panel q1a15\n",
      "Using default resolution (9097.525473 px/m) for panel q2a0\n",
      "Using default resolution (9097.525473 px/m) for panel q2a0\n",
      "Using default resolution (9097.525473 px/m) for panel q2a1\n",
      "Using default resolution (9097.525473 px/m) for panel q2a1\n",
      "Using default resolution (9097.525473 px/m) for panel q2a2\n",
      "Using default resolution (9097.525473 px/m) for panel q2a2\n",
      "Using default resolution (9097.525473 px/m) for panel q2a3\n",
      "Using default resolution (9097.525473 px/m) for panel q2a3\n",
      "Using default resolution (9097.525473 px/m) for panel q2a4\n",
      "Using default resolution (9097.525473 px/m) for panel q2a4\n",
      "Using default resolution (9097.525473 px/m) for panel q2a5\n",
      "Using default resolution (9097.525473 px/m) for panel q2a5\n",
      "Using default resolution (9097.525473 px/m) for panel q2a6\n",
      "Using default resolution (9097.525473 px/m) for panel q2a6\n",
      "Using default resolution (9097.525473 px/m) for panel q2a7\n",
      "Using default resolution (9097.525473 px/m) for panel q2a7\n",
      "Using default resolution (9097.525473 px/m) for panel q2a8\n",
      "Using default resolution (9097.525473 px/m) for panel q2a8\n",
      "Using default resolution (9097.525473 px/m) for panel q2a9\n",
      "Using default resolution (9097.525473 px/m) for panel q2a9\n",
      "Using default resolution (9097.525473 px/m) for panel q2a10\n",
      "Using default resolution (9097.525473 px/m) for panel q2a10\n",
      "Using default resolution (9097.525473 px/m) for panel q2a11\n",
      "Using default resolution (9097.525473 px/m) for panel q2a11\n",
      "Using default resolution (9097.525473 px/m) for panel q2a12\n",
      "Using default resolution (9097.525473 px/m) for panel q2a12\n",
      "Using default resolution (9097.525473 px/m) for panel q2a13\n",
      "Using default resolution (9097.525473 px/m) for panel q2a13\n",
      "Using default resolution (9097.525473 px/m) for panel q2a14\n",
      "Using default resolution (9097.525473 px/m) for panel q2a14\n",
      "Using default resolution (9097.525473 px/m) for panel q2a15\n",
      "Using default resolution (9097.525473 px/m) for panel q2a15\n",
      "Using default resolution (9097.525473 px/m) for panel q3a0\n",
      "Using default resolution (9097.525473 px/m) for panel q3a0\n",
      "Using default resolution (9097.525473 px/m) for panel q3a1\n",
      "Using default resolution (9097.525473 px/m) for panel q3a1\n",
      "Using default resolution (9097.525473 px/m) for panel q3a2\n",
      "Using default resolution (9097.525473 px/m) for panel q3a2\n",
      "Using default resolution (9097.525473 px/m) for panel q3a3\n",
      "Using default resolution (9097.525473 px/m) for panel q3a3\n",
      "Using default resolution (9097.525473 px/m) for panel q3a4\n",
      "Using default resolution (9097.525473 px/m) for panel q3a4\n",
      "Using default resolution (9097.525473 px/m) for panel q3a5\n",
      "Using default resolution (9097.525473 px/m) for panel q3a5\n",
      "Using default resolution (9097.525473 px/m) for panel q3a6\n",
      "Using default resolution (9097.525473 px/m) for panel q3a6\n",
      "Using default resolution (9097.525473 px/m) for panel q3a7\n",
      "Using default resolution (9097.525473 px/m) for panel q3a7\n",
      "Using default resolution (9097.525473 px/m) for panel q3a8\n",
      "Using default resolution (9097.525473 px/m) for panel q3a8\n",
      "Using default resolution (9097.525473 px/m) for panel q3a9\n",
      "Using default resolution (9097.525473 px/m) for panel q3a9\n",
      "Using default resolution (9097.525473 px/m) for panel q3a10\n",
      "Using default resolution (9097.525473 px/m) for panel q3a10\n",
      "Using default resolution (9097.525473 px/m) for panel q3a11\n",
      "Using default resolution (9097.525473 px/m) for panel q3a11\n",
      "Using default resolution (9097.525473 px/m) for panel q3a12\n",
      "Using default resolution (9097.525473 px/m) for panel q3a12\n",
      "Using default resolution (9097.525473 px/m) for panel q3a13\n",
      "Using default resolution (9097.525473 px/m) for panel q3a13\n",
      "Using default resolution (9097.525473 px/m) for panel q3a14\n",
      "Using default resolution (9097.525473 px/m) for panel q3a14\n",
      "Using default resolution (9097.525473 px/m) for panel q3a15\n",
      "Using default resolution (9097.525473 px/m) for panel q3a15\n"
     ]
    }
   ],
   "source": [
    "./CrystFELL_tutorial/detector-shift /home/tsachanowski/CrystFELL_tutorial/tutorial3.stream /home/tsachanowski/CrystFELL_tutorial/5HT2B-Liu-2013.geom"
   ]
  },
  {
   "cell_type": "code",
   "execution_count": 16,
   "metadata": {},
   "outputs": [
    {
     "name": "stdout",
     "output_type": "stream",
     "text": [
      "This is what I understood your unit cell to be:\n",
      "orthorhombic C, unique axis ?, right handed.\n",
      "a      b      c            alpha   beta  gamma\n",
      " 61.40 122.60 168.00 A     90.00  90.00  90.00 deg\n",
      "a =  6.140e-09  0.000e+00  0.000e+00 m\n",
      "b =  7.507e-25  1.226e-08  0.000e+00 m\n",
      "c =  1.029e-24  1.029e-24  1.680e-08 m\n",
      "a* =  1.629e+08 -9.973e-09 -9.973e-09 m^-1 (modulus  1.629e+08 m^-1)\n",
      "b* =  0.000e+00  8.157e+07 -4.994e-09 m^-1 (modulus  8.157e+07 m^-1)\n",
      "c* =  0.000e+00  0.000e+00  5.952e+07 m^-1 (modulus  5.952e+07 m^-1)\n",
      "alpha* =  90.00 deg, beta* =  90.00 deg, gamma* =  90.00 deg\n",
      "Cell representation is crystallographic, direct space.\n",
      "List of indexing methods:\n",
      "   0: mosflm-latt-cell          (mosflm using cell parameters and Bravais lattice type as prior information)\n",
      "Indexing parameters:\n",
      "                  Check unit cell parameters: on (axis combinations)\n",
      "                        Check peak alignment: on\n",
      "                   Refine indexing solutions: on\n",
      " Multi-lattice indexing (\"delete and retry\"): off\n",
      "                              Retry indexing: on\n",
      "   0 indexable out of    2 processed ( 0.0%),    0 crystals so far.    2 images processed since the last message.\n",
      "   0 indexable out of    6 processed ( 0.0%),    0 crystals so far.    4 images processed since the last message.\n",
      "   0 indexable out of    8 processed ( 0.0%),    0 crystals so far.    2 images processed since the last message.\n",
      "   0 indexable out of   11 processed ( 0.0%),    0 crystals so far.    3 images processed since the last message.\n",
      "   0 indexable out of   13 processed ( 0.0%),    0 crystals so far.    2 images processed since the last message.\n",
      "   0 indexable out of   16 processed ( 0.0%),    0 crystals so far.    3 images processed since the last message.\n",
      "   0 indexable out of   19 processed ( 0.0%),    0 crystals so far.    3 images processed since the last message.\n",
      "   0 indexable out of   22 processed ( 0.0%),    0 crystals so far.    3 images processed since the last message.\n",
      "   0 indexable out of   24 processed ( 0.0%),    0 crystals so far.    2 images processed since the last message.\n",
      "   0 indexable out of   26 processed ( 0.0%),    0 crystals so far.    2 images processed since the last message.\n",
      "   0 indexable out of   30 processed ( 0.0%),    0 crystals so far.    4 images processed since the last message.\n",
      "   0 indexable out of   32 processed ( 0.0%),    0 crystals so far.    2 images processed since the last message.\n",
      "   0 indexable out of   35 processed ( 0.0%),    0 crystals so far.    3 images processed since the last message.\n",
      "   0 indexable out of   39 processed ( 0.0%),    0 crystals so far.    4 images processed since the last message.\n",
      "   0 indexable out of   42 processed ( 0.0%),    0 crystals so far.    3 images processed since the last message.\n",
      "   0 indexable out of   45 processed ( 0.0%),    0 crystals so far.    3 images processed since the last message.\n",
      "   0 indexable out of   48 processed ( 0.0%),    0 crystals so far.    3 images processed since the last message.\n",
      "   0 indexable out of   51 processed ( 0.0%),    0 crystals so far.    3 images processed since the last message.\n",
      "   0 indexable out of   54 processed ( 0.0%),    0 crystals so far.    3 images processed since the last message.\n",
      "   0 indexable out of   58 processed ( 0.0%),    0 crystals so far.    4 images processed since the last message.\n",
      "   0 indexable out of   61 processed ( 0.0%),    0 crystals so far.    3 images processed since the last message.\n",
      "Waiting for the last patterns to be processed...\n",
      "Final: 64 images processed, 0 had crystals (0.0%), 0 crystals overall.\n"
     ]
    }
   ],
   "source": [
    "cd ~\n",
    "indexamajig -i /home/tsachanowski/CrystFELL_tutorial/files.lst -g /home/tsachanowski/CrystFELL_tutorial/5HT2B-Liu-2013-predrefine.geom --peaks=hdf5 --indexing=mosflm --int-radius=3,4,5 -p /home/tsachanowski/CrystFELL_tutorial/5HT2B.cell -o /home/tsachanowski/CrystFELL_tutorial/tutorial3.stream"
   ]
  },
  {
   "cell_type": "code",
   "execution_count": 18,
   "metadata": {
    "scrolled": true
   },
   "outputs": [
    {
     "name": "stdout",
     "output_type": "stream",
     "text": [
      "Extra arguments for hdfsee: -g /home/tsachanowski/CrystFELL_tutorial/5HT2B-Liu-2013-predrefine.geom --int-boost=5\n",
      "Viewing cxidb-21-run0130/cxidb-21-run0132/data1/LCLS_2013_Mar23_r0132_010320_ec8b.h5\n",
      "Viewing cxidb-21-run0130/cxidb-21-run0132/data1/LCLS_2013_Mar23_r0132_010326_f4bf.h5\n",
      "Viewing cxidb-21-run0130/cxidb-21-run0132/data1/LCLS_2013_Mar23_r0132_010319_eb9b.h5\n",
      "Viewing cxidb-21-run0130/cxidb-21-run0132/data1/LCLS_2013_Mar23_r0132_010312_e1f9.h5\n",
      "Viewing cxidb-21-run0130/cxidb-21-run0132/data1/LCLS_2013_Mar23_r0132_010304_d69b.h5\n",
      "Viewing cxidb-21-run0130/cxidb-21-run0132/data1/LCLS_2013_Mar23_r0132_010335_10101.h5\n",
      "Viewing cxidb-21-run0130/cxidb-21-run0132/data1/LCLS_2013_Mar23_r0132_010334_ffdb.h5\n",
      "Viewing cxidb-21-run0130/cxidb-21-run0132/data1/LCLS_2013_Mar23_r0132_010335_101e5.h5\n",
      "Viewing cxidb-21-run0130/cxidb-21-run0132/data1/LCLS_2013_Mar23_r0132_010315_e553.h5\n",
      "Viewing cxidb-21-run0130/cxidb-21-run0132/data1/LCLS_2013_Mar23_r0132_010331_fc1b.h5\n",
      "Viewing cxidb-21-run0130/cxidb-21-run0132/data1/LCLS_2013_Mar23_r0132_010402_12861.h5\n",
      "Viewing cxidb-21-run0130/cxidb-21-run0132/data1/LCLS_2013_Mar23_r0132_010333_fea9.h5\n",
      "Viewing cxidb-21-run0130/cxidb-21-run0132/data1/LCLS_2013_Mar23_r0132_010323_f057.h5\n",
      "Viewing cxidb-21-run0130/cxidb-21-run0132/data1/LCLS_2013_Mar23_r0132_010338_1059f.h5\n",
      "Viewing cxidb-21-run0130/cxidb-21-run0132/data1/LCLS_2013_Mar23_r0132_010310_df17.h5\n",
      "Viewing cxidb-21-run0130/cxidb-21-run0132/data1/LCLS_2013_Mar23_r0132_010319_eabd.h5\n",
      "Viewing cxidb-21-run0130/cxidb-21-run0132/data1/LCLS_2013_Mar23_r0132_010305_d7c1.h5\n",
      "Viewing cxidb-21-run0130/cxidb-21-run0132/data1/LCLS_2013_Mar23_r0132_010337_1041f.h5\n",
      "Viewing cxidb-21-run0130/cxidb-21-run0132/data1/LCLS_2013_Mar23_r0132_010310_df11.h5\n",
      "Viewing cxidb-21-run0130/cxidb-21-run0132/data1/LCLS_2013_Mar23_r0132_010315_e523.h5\n",
      "Viewing cxidb-21-run0130/cxidb-21-run0132/data1/LCLS_2013_Mar23_r0132_010336_10281.h5\n",
      "Viewing cxidb-21-run0130/cxidb-21-run0132/data1/LCLS_2013_Mar23_r0132_010315_e52f.h5\n",
      "Viewing cxidb-21-run0130/cxidb-21-run0132/data1/LCLS_2013_Mar23_r0132_010331_fba9.h5\n",
      "Viewing cxidb-21-run0130/cxidb-21-run0132/data1/LCLS_2013_Mar23_r0132_010343_10cc5.h5\n",
      "Viewing cxidb-21-run0130/cxidb-21-run0132/data1/LCLS_2013_Mar23_r0132_010317_e901.h5\n",
      "Viewing cxidb-21-run0130/cxidb-21-run0132/data1/LCLS_2013_Mar23_r0132_010327_f5f7.h5\n",
      "Viewing cxidb-21-run0130/cxidb-21-run0132/data1/LCLS_2013_Mar23_r0132_010310_deff.h5\n",
      "Viewing cxidb-21-run0130/cxidb-21-run0132/data1/LCLS_2013_Mar23_r0132_010327_f5f1.h5\n",
      "Viewing cxidb-21-run0130/cxidb-21-run0132/data1/LCLS_2013_Mar23_r0132_010331_fcc3.h5\n",
      "Viewing cxidb-21-run0130/cxidb-21-run0132/data1/LCLS_2013_Mar23_r0132_010319_eba7.h5\n",
      "Viewing cxidb-21-run0130/cxidb-21-run0132/data1/LCLS_2013_Mar23_r0132_010338_1054b.h5\n",
      "Viewing cxidb-21-run0130/cxidb-21-run0132/data1/LCLS_2013_Mar23_r0132_010326_f4b9.h5\n",
      "Viewing cxidb-21-run0130/cxidb-21-run0132/data1/LCLS_2013_Mar23_r0132_010311_e097.h5\n",
      "Viewing cxidb-21-run0130/cxidb-21-run0132/data1/LCLS_2013_Mar23_r0132_010333_fe43.h5\n",
      "Viewing cxidb-21-run0130/cxidb-21-run0132/data1/LCLS_2013_Mar23_r0132_010327_f687.h5\n",
      "Viewing cxidb-21-run0130/cxidb-21-run0132/data1/LCLS_2013_Mar23_r0132_010320_ed27.h5\n",
      "Viewing cxidb-21-run0130/cxidb-21-run0132/data1/LCLS_2013_Mar23_r0132_010340_10863.h5\n",
      "Viewing cxidb-21-run0130/cxidb-21-run0132/data1/LCLS_2013_Mar23_r0132_010333_fe5b.h5\n",
      "Viewing cxidb-21-run0130/cxidb-21-run0132/data1/LCLS_2013_Mar23_r0132_010306_d8bd.h5\n",
      "Viewing cxidb-21-run0130/cxidb-21-run0132/data1/LCLS_2013_Mar23_r0132_010324_f24f.h5\n",
      "Viewing cxidb-21-run0130/cxidb-21-run0132/data1/LCLS_2013_Mar23_r0132_010315_e529.h5\n",
      "Viewing cxidb-21-run0130/cxidb-21-run0132/data1/LCLS_2013_Mar23_r0132_010319_ea9f.h5\n",
      "Viewing cxidb-21-run0130/cxidb-21-run0132/data1/LCLS_2013_Mar23_r0132_010337_104f1.h5\n"
     ]
    }
   ],
   "source": [
    "# po pobraniu skryptu pubkt 5\n",
    "cd ~\n",
    "chmod +x /home/tsachanowski/CrystFELL_tutorial/check-peak-detection\n",
    "./CrystFELL_tutorial/check-peak-detection /home/tsachanowski/CrystFELL_tutorial/tutorial.stream -g /home/tsachanowski/CrystFELL_tutorial/5HT2B-Liu-2013-predrefine.geom --int-boost=5\n",
    "# otwieraja sie te same obrazy z kolakmi oznaczajce minima\n"
   ]
  },
  {
   "cell_type": "code",
   "execution_count": 27,
   "metadata": {},
   "outputs": [
    {
     "name": "stdout",
     "output_type": "stream",
     "text": [
      "\u001b[0m\u001b[38;5;33manaconda3\u001b[0m             \u001b[38;5;33mDownloads\u001b[0m          mosflm.lp      slf4j.simpleLogger.log\n",
      "\u001b[38;5;33mCrystFELL_tutorial\u001b[0m    \u001b[38;5;33mindexamajig.10086\u001b[0m  \u001b[38;5;33mMuzyka\u001b[0m         SUMMARY\n",
      "\u001b[38;5;33mcxidb-21-run0130\u001b[0m      \u001b[38;5;33mindexamajig.3022\u001b[0m   \u001b[38;5;33mNCBJ-PRAKTYKI\u001b[0m  \u001b[38;5;33mSzablony\u001b[0m\n",
      "\u001b[38;5;9mcxidb-21-run0130.tar\u001b[0m  \u001b[38;5;33mindexamajig.3828\u001b[0m   \u001b[38;5;33mObrazy\u001b[0m         \u001b[38;5;33mtmp\u001b[0m\n",
      "\u001b[38;5;33mdata_processing\u001b[0m       \u001b[38;5;33mindexamajig.6642\u001b[0m   \u001b[38;5;33mPobrane\u001b[0m        Untitled.ipynb\n",
      "\u001b[38;5;33mdestination\u001b[0m           \u001b[38;5;33mindexamajig.896\u001b[0m    \u001b[38;5;33mPubliczny\u001b[0m      \u001b[38;5;33mWideo\u001b[0m\n",
      "\u001b[38;5;33mDokumenty\u001b[0m             list.tmp           \u001b[38;5;33mPulpit\u001b[0m         \u001b[38;5;33mworkspace\u001b[0m\n",
      "Extra arguments for hdfsee: -g /home/tsachanowski/CrystFELL_tutorial/5HT2B-Liu-2013-predrefine.geom\n",
      "Viewing cxidb-21-run0130/cxidb-21-run0132/data1/LCLS_2013_Mar23_r0132_010320_ec8b.h5\n",
      "Viewing cxidb-21-run0130/cxidb-21-run0132/data1/LCLS_2013_Mar23_r0132_010326_f4bf.h5\n",
      "Viewing cxidb-21-run0130/cxidb-21-run0132/data1/LCLS_2013_Mar23_r0132_010319_eb9b.h5\n",
      "Viewing cxidb-21-run0130/cxidb-21-run0132/data1/LCLS_2013_Mar23_r0132_010334_ffdb.h5\n",
      "Viewing cxidb-21-run0130/cxidb-21-run0132/data1/LCLS_2013_Mar23_r0132_010335_101e5.h5\n",
      "Viewing cxidb-21-run0130/cxidb-21-run0132/data1/LCLS_2013_Mar23_r0132_010315_e553.h5\n",
      "Viewing cxidb-21-run0130/cxidb-21-run0132/data1/LCLS_2013_Mar23_r0132_010333_fea9.h5\n",
      "Viewing cxidb-21-run0130/cxidb-21-run0132/data1/LCLS_2013_Mar23_r0132_010323_f057.h5\n",
      "Viewing cxidb-21-run0130/cxidb-21-run0132/data1/LCLS_2013_Mar23_r0132_010338_1059f.h5\n",
      "Viewing cxidb-21-run0130/cxidb-21-run0132/data1/LCLS_2013_Mar23_r0132_010310_df17.h5\n"
     ]
    }
   ],
   "source": [
    "cd ~; ls \n",
    "chmod +x /home/tsachanowski/CrystFELL_tutorial/check-near-bragg\n",
    "./CrystFELL_tutorial/check-near-bragg /home/tsachanowski/CrystFELL_tutorial/tutorial2.stream -g /home/tsachanowski/CrystFELL_tutorial/5HT2B-Liu-2013-predrefine.geom"
   ]
  },
  {
   "cell_type": "code",
   "execution_count": 33,
   "metadata": {},
   "outputs": [
    {
     "name": "stdout",
     "output_type": "stream",
     "text": [
      "Extra arguments for hdfsee: -g /home/tsachanowski/CrystFELL_tutorial/5HT2B-Liu-2013.geom\n",
      "Viewing cxidb-21-run0130/cxidb-21-run0132/data1/LCLS_2013_Mar23_r0132_010320_ec8b.h5\n",
      "Viewing cxidb-21-run0130/cxidb-21-run0132/data1/LCLS_2013_Mar23_r0132_010326_f4bf.h5\n",
      "Viewing cxidb-21-run0130/cxidb-21-run0132/data1/LCLS_2013_Mar23_r0132_010319_eb9b.h5\n"
     ]
    }
   ],
   "source": [
    "./CrystFELL_tutorial/check-peak-detection --not-indexed /home/tsachanowski/CrystFELL_tutorial/tutorial3.stream -g /home/tsachanowski/CrystFELL_tutorial/5HT2B-Liu-2013.geom"
   ]
  },
  {
   "cell_type": "code",
   "execution_count": 32,
   "metadata": {},
   "outputs": [
    {
     "name": "stdout",
     "output_type": "stream",
     "text": [
      "Extra arguments for hdfsee: -g /home/tsachanowski/CrystFELL_tutorial/5HT2B-Liu-2013.geom\n",
      "Not showing cxidb-21-run0130/cxidb-21-run0132/data1/LCLS_2013_Mar23_r0132_010320_ec8b.h5\n",
      "Not showing cxidb-21-run0130/cxidb-21-run0132/data1/LCLS_2013_Mar23_r0132_010326_f4bf.h5\n",
      "Not showing cxidb-21-run0130/cxidb-21-run0132/data1/LCLS_2013_Mar23_r0132_010319_eb9b.h5\n",
      "Not showing cxidb-21-run0130/cxidb-21-run0132/data1/LCLS_2013_Mar23_r0132_010312_e1f9.h5\n",
      "Not showing cxidb-21-run0130/cxidb-21-run0132/data1/LCLS_2013_Mar23_r0132_010304_d69b.h5\n",
      "Not showing cxidb-21-run0130/cxidb-21-run0132/data1/LCLS_2013_Mar23_r0132_010335_10101.h5\n",
      "Not showing cxidb-21-run0130/cxidb-21-run0132/data1/LCLS_2013_Mar23_r0132_010334_ffdb.h5\n",
      "Not showing cxidb-21-run0130/cxidb-21-run0132/data1/LCLS_2013_Mar23_r0132_010335_101e5.h5\n",
      "Not showing cxidb-21-run0130/cxidb-21-run0132/data1/LCLS_2013_Mar23_r0132_010315_e553.h5\n",
      "Not showing cxidb-21-run0130/cxidb-21-run0132/data1/LCLS_2013_Mar23_r0132_010331_fc1b.h5\n",
      "Not showing cxidb-21-run0130/cxidb-21-run0132/data1/LCLS_2013_Mar23_r0132_010402_12861.h5\n",
      "Not showing cxidb-21-run0130/cxidb-21-run0132/data1/LCLS_2013_Mar23_r0132_010333_fea9.h5\n",
      "Not showing cxidb-21-run0130/cxidb-21-run0132/data1/LCLS_2013_Mar23_r0132_010323_f057.h5\n",
      "Not showing cxidb-21-run0130/cxidb-21-run0132/data1/LCLS_2013_Mar23_r0132_010338_1059f.h5\n",
      "Not showing cxidb-21-run0130/cxidb-21-run0132/data1/LCLS_2013_Mar23_r0132_010310_df17.h5\n",
      "Not showing cxidb-21-run0130/cxidb-21-run0132/data1/LCLS_2013_Mar23_r0132_010319_eabd.h5\n",
      "Not showing cxidb-21-run0130/cxidb-21-run0132/data1/LCLS_2013_Mar23_r0132_010305_d7c1.h5\n",
      "Not showing cxidb-21-run0130/cxidb-21-run0132/data1/LCLS_2013_Mar23_r0132_010337_1041f.h5\n",
      "Not showing cxidb-21-run0130/cxidb-21-run0132/data1/LCLS_2013_Mar23_r0132_010310_df11.h5\n",
      "Not showing cxidb-21-run0130/cxidb-21-run0132/data1/LCLS_2013_Mar23_r0132_010315_e523.h5\n",
      "Not showing cxidb-21-run0130/cxidb-21-run0132/data1/LCLS_2013_Mar23_r0132_010336_10281.h5\n",
      "Not showing cxidb-21-run0130/cxidb-21-run0132/data1/LCLS_2013_Mar23_r0132_010315_e52f.h5\n",
      "Not showing cxidb-21-run0130/cxidb-21-run0132/data1/LCLS_2013_Mar23_r0132_010331_fba9.h5\n",
      "Not showing cxidb-21-run0130/cxidb-21-run0132/data1/LCLS_2013_Mar23_r0132_010343_10cc5.h5\n",
      "Not showing cxidb-21-run0130/cxidb-21-run0132/data1/LCLS_2013_Mar23_r0132_010317_e901.h5\n",
      "Not showing cxidb-21-run0130/cxidb-21-run0132/data1/LCLS_2013_Mar23_r0132_010327_f5f7.h5\n",
      "Not showing cxidb-21-run0130/cxidb-21-run0132/data1/LCLS_2013_Mar23_r0132_010310_deff.h5\n",
      "Not showing cxidb-21-run0130/cxidb-21-run0132/data1/LCLS_2013_Mar23_r0132_010327_f5f1.h5\n",
      "Not showing cxidb-21-run0130/cxidb-21-run0132/data1/LCLS_2013_Mar23_r0132_010331_fcc3.h5\n",
      "Not showing cxidb-21-run0130/cxidb-21-run0132/data1/LCLS_2013_Mar23_r0132_010319_eba7.h5\n",
      "Not showing cxidb-21-run0130/cxidb-21-run0132/data1/LCLS_2013_Mar23_r0132_010338_1054b.h5\n",
      "Not showing cxidb-21-run0130/cxidb-21-run0132/data1/LCLS_2013_Mar23_r0132_010326_f4b9.h5\n",
      "Not showing cxidb-21-run0130/cxidb-21-run0132/data1/LCLS_2013_Mar23_r0132_010311_e097.h5\n",
      "Not showing cxidb-21-run0130/cxidb-21-run0132/data1/LCLS_2013_Mar23_r0132_010333_fe43.h5\n",
      "Not showing cxidb-21-run0130/cxidb-21-run0132/data1/LCLS_2013_Mar23_r0132_010327_f687.h5\n",
      "Not showing cxidb-21-run0130/cxidb-21-run0132/data1/LCLS_2013_Mar23_r0132_010320_ed27.h5\n",
      "Not showing cxidb-21-run0130/cxidb-21-run0132/data1/LCLS_2013_Mar23_r0132_010340_10863.h5\n",
      "Not showing cxidb-21-run0130/cxidb-21-run0132/data1/LCLS_2013_Mar23_r0132_010333_fe5b.h5\n",
      "Not showing cxidb-21-run0130/cxidb-21-run0132/data1/LCLS_2013_Mar23_r0132_010306_d8bd.h5\n",
      "Not showing cxidb-21-run0130/cxidb-21-run0132/data1/LCLS_2013_Mar23_r0132_010324_f24f.h5\n",
      "Not showing cxidb-21-run0130/cxidb-21-run0132/data1/LCLS_2013_Mar23_r0132_010315_e529.h5\n",
      "Not showing cxidb-21-run0130/cxidb-21-run0132/data1/LCLS_2013_Mar23_r0132_010319_ea9f.h5\n",
      "Not showing cxidb-21-run0130/cxidb-21-run0132/data1/LCLS_2013_Mar23_r0132_010337_104f1.h5\n",
      "Not showing cxidb-21-run0130/cxidb-21-run0132/data1/LCLS_2013_Mar23_r0132_010327_f675.h5\n",
      "Not showing cxidb-21-run0130/cxidb-21-run0132/data1/LCLS_2013_Mar23_r0132_010338_1063b.h5\n",
      "Not showing cxidb-21-run0130/cxidb-21-run0132/data1/LCLS_2013_Mar23_r0132_010334_ffab.h5\n",
      "Not showing cxidb-21-run0130/cxidb-21-run0132/data1/LCLS_2013_Mar23_r0132_010341_10a7f.h5\n",
      "Not showing cxidb-21-run0130/cxidb-21-run0132/data1/LCLS_2013_Mar23_r0132_010312_e1ed.h5\n",
      "Not showing cxidb-21-run0130/cxidb-21-run0132/data1/LCLS_2013_Mar23_r0132_010332_fda1.h5\n",
      "Not showing cxidb-21-run0130/cxidb-21-run0132/data1/LCLS_2013_Mar23_r0132_010341_10a19.h5\n",
      "Not showing cxidb-21-run0130/cxidb-21-run0132/data1/LCLS_2013_Mar23_r0132_010323_f10b.h5\n",
      "Not showing cxidb-21-run0130/cxidb-21-run0132/data1/LCLS_2013_Mar23_r0132_010311_dfc5.h5\n",
      "Not showing cxidb-21-run0130/cxidb-21-run0132/data1/LCLS_2013_Mar23_r0132_010326_f4c5.h5\n",
      "Not showing cxidb-21-run0130/cxidb-21-run0131/data1/LCLS_2013_Mar23_r0131_003832_bead.h5\n",
      "Not showing cxidb-21-run0130/cxidb-21-run0131/data1/LCLS_2013_Mar23_r0131_003832_bf5b.h5\n",
      "Not showing cxidb-21-run0130/cxidb-21-run0131/data1/LCLS_2013_Mar23_r0131_003730_684f.h5\n",
      "Not showing cxidb-21-run0130/cxidb-21-run0131/data1/LCLS_2013_Mar23_r0131_003834_c195.h5\n",
      "Not showing cxidb-21-run0130/cxidb-21-run0131/data1/LCLS_2013_Mar23_r0131_003900_e66d.h5\n",
      "Not showing cxidb-21-run0130/cxidb-21-run0131/data1/LCLS_2013_Mar23_r0131_003835_c2c7.h5\n",
      "Not showing cxidb-21-run0130/cxidb-21-run0131/data1/LCLS_2013_Mar23_r0131_003831_bd8d.h5\n",
      "Not showing cxidb-21-run0130/cxidb-21-run0131/data1/LCLS_2013_Mar23_r0131_003717_55a7.h5\n",
      "Not showing cxidb-21-run0130/cxidb-21-run0131/data1/LCLS_2013_Mar23_r0131_003844_d09b.h5\n",
      "Not showing cxidb-21-run0130/cxidb-21-run0131/data1/LCLS_2013_Mar23_r0131_003851_da07.h5\n",
      "Not showing cxidb-21-run0130/cxidb-21-run0131/data1/LCLS_2013_Mar23_r0131_003823_b32b.h5\n"
     ]
    }
   ],
   "source": [
    "./CrystFELL_tutorial/check-peak-detection --indexed /home/tsachanowski/CrystFELL_tutorial/tutorial.stream -g /home/tsachanowski/CrystFELL_tutorial/5HT2B-Liu-2013.geom"
   ]
  },
  {
   "cell_type": "code",
   "execution_count": 36,
   "metadata": {},
   "outputs": [
    {
     "name": "stdout",
     "output_type": "stream",
     "text": [
      "\r",
      "1000 predicted reflections found\r",
      "2000 predicted reflections found\r",
      "3000 predicted reflections found\r",
      "4000 predicted reflections found\r",
      "5000 predicted reflections found\r",
      "6000 predicted reflections found\r",
      "7000 predicted reflections found\r",
      "8000 predicted reflections found\r",
      "9000 predicted reflections found\r",
      "10000 predicted reflections found\r",
      "11000 predicted reflections found\r",
      "12000 predicted reflections found\r",
      "13000 predicted reflections found\r",
      "14000 predicted reflections found\r",
      "15000 predicted reflections found\r",
      "16000 predicted reflections found\r",
      "17000 predicted reflections found\r",
      "18000 predicted reflections found\r",
      "19000 predicted reflections found\r",
      "20000 predicted reflections found\r",
      "21000 predicted reflections found\r",
      "22000 predicted reflections found\r",
      "23000 predicted reflections found\r",
      "24000 predicted reflections found\r",
      "25000 predicted reflections found\r",
      "26000 predicted reflections found\r",
      "27000 predicted reflections found\r",
      "28000 predicted reflections found\r",
      "29000 predicted reflections found\r",
      "30000 predicted reflections found\r",
      "31000 predicted reflections found\r",
      "32000 predicted reflections found\r",
      "33000 predicted reflections found\r",
      "34000 predicted reflections found\r",
      "35000 predicted reflections found\r",
      "36000 predicted reflections found\r",
      "37000 predicted reflections found\r",
      "37512 predicted reflections found\n"
     ]
    }
   ],
   "source": [
    "cd ~\n",
    "chmod +x /home/tsachanowski/CrystFELL_tutorial/peakogram-stream\n",
    "./CrystFELL_tutorial/peakogram-stream -i /home/tsachanowski/CrystFELL_tutorial/tutorial2.stream "
   ]
  },
  {
   "cell_type": "code",
   "execution_count": 37,
   "metadata": {},
   "outputs": [
    {
     "name": "stdout",
     "output_type": "stream",
     "text": [
      "\r",
      "1 images processed, 1 crystals, 1 crystals used.\r",
      "2 images processed, 2 crystals, 2 crystals used.\r",
      "3 images processed, 3 crystals, 3 crystals used.\r",
      "4 images processed, 3 crystals, 3 crystals used.\r",
      "5 images processed, 3 crystals, 3 crystals used.\r",
      "6 images processed, 3 crystals, 3 crystals used.\r",
      "7 images processed, 4 crystals, 4 crystals used.\r",
      "8 images processed, 5 crystals, 5 crystals used.\r",
      "9 images processed, 6 crystals, 6 crystals used.\r",
      "10 images processed, 6 crystals, 6 crystals used.\r",
      "11 images processed, 6 crystals, 6 crystals used.\r",
      "12 images processed, 7 crystals, 7 crystals used.\r",
      "13 images processed, 8 crystals, 8 crystals used.\r",
      "14 images processed, 9 crystals, 9 crystals used.\r",
      "15 images processed, 10 crystals, 10 crystals used.\r",
      "16 images processed, 11 crystals, 11 crystals used.\r",
      "17 images processed, 12 crystals, 12 crystals used.\r",
      "18 images processed, 13 crystals, 13 crystals used.\r",
      "19 images processed, 14 crystals, 14 crystals used.\r",
      "20 images processed, 15 crystals, 15 crystals used.\r",
      "21 images processed, 15 crystals, 15 crystals used.\r",
      "22 images processed, 16 crystals, 16 crystals used.\r",
      "23 images processed, 17 crystals, 17 crystals used.\r",
      "24 images processed, 17 crystals, 17 crystals used.\r",
      "25 images processed, 17 crystals, 17 crystals used.\r",
      "26 images processed, 18 crystals, 18 crystals used.\r",
      "27 images processed, 18 crystals, 18 crystals used.\r",
      "28 images processed, 19 crystals, 19 crystals used.\r",
      "29 images processed, 20 crystals, 20 crystals used.\r",
      "30 images processed, 21 crystals, 21 crystals used.\r",
      "31 images processed, 21 crystals, 21 crystals used.\r",
      "32 images processed, 22 crystals, 22 crystals used.\r",
      "33 images processed, 23 crystals, 23 crystals used.\r",
      "34 images processed, 24 crystals, 24 crystals used.\r",
      "35 images processed, 25 crystals, 25 crystals used.\r",
      "36 images processed, 26 crystals, 26 crystals used.\r",
      "37 images processed, 27 crystals, 27 crystals used.\r",
      "38 images processed, 28 crystals, 28 crystals used.\r",
      "39 images processed, 29 crystals, 29 crystals used.\r",
      "40 images processed, 30 crystals, 30 crystals used.\r",
      "41 images processed, 31 crystals, 31 crystals used.\r",
      "42 images processed, 32 crystals, 32 crystals used.\r",
      "43 images processed, 33 crystals, 33 crystals used.\r",
      "44 images processed, 34 crystals, 34 crystals used.\r",
      "45 images processed, 35 crystals, 35 crystals used.\r",
      "46 images processed, 36 crystals, 36 crystals used.\r",
      "47 images processed, 37 crystals, 37 crystals used.\r",
      "48 images processed, 37 crystals, 37 crystals used.\r",
      "49 images processed, 38 crystals, 38 crystals used.\r",
      "50 images processed, 39 crystals, 39 crystals used.\r",
      "51 images processed, 40 crystals, 40 crystals used.\r",
      "52 images processed, 41 crystals, 41 crystals used.\r",
      "53 images processed, 42 crystals, 42 crystals used.\r",
      "54 images processed, 42 crystals, 42 crystals used.\r",
      "55 images processed, 43 crystals, 43 crystals used.\r",
      "56 images processed, 43 crystals, 43 crystals used.\r",
      "57 images processed, 43 crystals, 43 crystals used.\r",
      "58 images processed, 43 crystals, 43 crystals used.\r",
      "59 images processed, 44 crystals, 44 crystals used.\r",
      "60 images processed, 44 crystals, 44 crystals used.\r",
      "61 images processed, 45 crystals, 45 crystals used.\r",
      "62 images processed, 45 crystals, 45 crystals used.\r",
      "63 images processed, 46 crystals, 46 crystals used.\r",
      "64 images processed, 46 crystals, 46 crystals used.\n"
     ]
    }
   ],
   "source": [
    "process_hkl -i  /home/tsachanowski/CrystFELL_tutorial/tutorial2.stream -o  /home/tsachanowski/CrystFELL_tutorial/tutorial.hkl -y 222 --max-adu=7000"
   ]
  },
  {
   "cell_type": "code",
   "execution_count": 38,
   "metadata": {},
   "outputs": [
    {
     "name": "stdout",
     "output_type": "stream",
     "text": [
      "\r",
      "1 images processed, 1 crystals, 0 crystals used.\r",
      "2 images processed, 2 crystals, 1 crystals used.\r",
      "3 images processed, 3 crystals, 1 crystals used.\r",
      "4 images processed, 3 crystals, 1 crystals used.\r",
      "5 images processed, 3 crystals, 1 crystals used.\r",
      "6 images processed, 3 crystals, 1 crystals used.\r",
      "7 images processed, 4 crystals, 2 crystals used.\r",
      "8 images processed, 5 crystals, 2 crystals used.\r",
      "9 images processed, 6 crystals, 3 crystals used.\r",
      "10 images processed, 6 crystals, 3 crystals used.\r",
      "11 images processed, 6 crystals, 3 crystals used.\r",
      "12 images processed, 7 crystals, 3 crystals used.\r",
      "13 images processed, 8 crystals, 4 crystals used.\r",
      "14 images processed, 9 crystals, 4 crystals used.\r",
      "15 images processed, 10 crystals, 5 crystals used.\r",
      "16 images processed, 11 crystals, 5 crystals used.\r",
      "17 images processed, 12 crystals, 6 crystals used.\r",
      "18 images processed, 13 crystals, 6 crystals used.\r",
      "19 images processed, 14 crystals, 7 crystals used.\r",
      "20 images processed, 15 crystals, 7 crystals used.\r",
      "21 images processed, 15 crystals, 7 crystals used.\r",
      "22 images processed, 16 crystals, 8 crystals used.\r",
      "23 images processed, 17 crystals, 8 crystals used.\r",
      "24 images processed, 17 crystals, 8 crystals used.\r",
      "25 images processed, 17 crystals, 8 crystals used.\r",
      "26 images processed, 18 crystals, 9 crystals used.\r",
      "27 images processed, 18 crystals, 9 crystals used.\r",
      "28 images processed, 19 crystals, 9 crystals used.\r",
      "29 images processed, 20 crystals, 10 crystals used.\r",
      "30 images processed, 21 crystals, 10 crystals used.\r",
      "31 images processed, 21 crystals, 10 crystals used.\r",
      "32 images processed, 22 crystals, 11 crystals used.\r",
      "33 images processed, 23 crystals, 11 crystals used.\r",
      "34 images processed, 24 crystals, 12 crystals used.\r",
      "35 images processed, 25 crystals, 12 crystals used.\r",
      "36 images processed, 26 crystals, 13 crystals used.\r",
      "37 images processed, 27 crystals, 13 crystals used.\r",
      "38 images processed, 28 crystals, 14 crystals used.\r",
      "39 images processed, 29 crystals, 14 crystals used.\r",
      "40 images processed, 30 crystals, 15 crystals used.\r",
      "41 images processed, 31 crystals, 15 crystals used.\r",
      "42 images processed, 32 crystals, 16 crystals used.\r",
      "43 images processed, 33 crystals, 16 crystals used.\r",
      "44 images processed, 34 crystals, 17 crystals used.\r",
      "45 images processed, 35 crystals, 17 crystals used.\r",
      "46 images processed, 36 crystals, 18 crystals used.\r",
      "47 images processed, 37 crystals, 18 crystals used.\r",
      "48 images processed, 37 crystals, 18 crystals used.\r",
      "49 images processed, 38 crystals, 19 crystals used.\r",
      "50 images processed, 39 crystals, 19 crystals used.\r",
      "51 images processed, 40 crystals, 20 crystals used.\r",
      "52 images processed, 41 crystals, 20 crystals used.\r",
      "53 images processed, 42 crystals, 21 crystals used.\r",
      "54 images processed, 42 crystals, 21 crystals used.\r",
      "55 images processed, 43 crystals, 21 crystals used.\r",
      "56 images processed, 43 crystals, 21 crystals used.\r",
      "57 images processed, 43 crystals, 21 crystals used.\r",
      "58 images processed, 43 crystals, 21 crystals used.\r",
      "59 images processed, 44 crystals, 22 crystals used.\r",
      "60 images processed, 44 crystals, 22 crystals used.\r",
      "61 images processed, 45 crystals, 22 crystals used.\r",
      "62 images processed, 45 crystals, 22 crystals used.\r",
      "63 images processed, 46 crystals, 23 crystals used.\r",
      "64 images processed, 46 crystals, 23 crystals used.\n"
     ]
    }
   ],
   "source": [
    "process_hkl -i  /home/tsachanowski/CrystFELL_tutorial/tutorial2.stream -o  /home/tsachanowski/CrystFELL_tutorial/tutorial2.hkl -y 222 --max-adu=7000 --even-only"
   ]
  },
  {
   "cell_type": "code",
   "execution_count": 39,
   "metadata": {},
   "outputs": [
    {
     "name": "stdout",
     "output_type": "stream",
     "text": [
      "\r",
      "1 images processed, 1 crystals, 1 crystals used.\r",
      "2 images processed, 2 crystals, 1 crystals used.\r",
      "3 images processed, 3 crystals, 2 crystals used.\r",
      "4 images processed, 3 crystals, 2 crystals used.\r",
      "5 images processed, 3 crystals, 2 crystals used.\r",
      "6 images processed, 3 crystals, 2 crystals used.\r",
      "7 images processed, 4 crystals, 2 crystals used.\r",
      "8 images processed, 5 crystals, 3 crystals used.\r",
      "9 images processed, 6 crystals, 3 crystals used.\r",
      "10 images processed, 6 crystals, 3 crystals used.\r",
      "11 images processed, 6 crystals, 3 crystals used.\r",
      "12 images processed, 7 crystals, 4 crystals used.\r",
      "13 images processed, 8 crystals, 4 crystals used.\r",
      "14 images processed, 9 crystals, 5 crystals used.\r",
      "15 images processed, 10 crystals, 5 crystals used.\r",
      "16 images processed, 11 crystals, 6 crystals used.\r",
      "17 images processed, 12 crystals, 6 crystals used.\r",
      "18 images processed, 13 crystals, 7 crystals used.\r",
      "19 images processed, 14 crystals, 7 crystals used.\r",
      "20 images processed, 15 crystals, 8 crystals used.\r",
      "21 images processed, 15 crystals, 8 crystals used.\r",
      "22 images processed, 16 crystals, 8 crystals used.\r",
      "23 images processed, 17 crystals, 9 crystals used.\r",
      "24 images processed, 17 crystals, 9 crystals used.\r",
      "25 images processed, 17 crystals, 9 crystals used.\r",
      "26 images processed, 18 crystals, 9 crystals used.\r",
      "27 images processed, 18 crystals, 9 crystals used.\r",
      "28 images processed, 19 crystals, 10 crystals used.\r",
      "29 images processed, 20 crystals, 10 crystals used.\r",
      "30 images processed, 21 crystals, 11 crystals used.\r",
      "31 images processed, 21 crystals, 11 crystals used.\r",
      "32 images processed, 22 crystals, 11 crystals used.\r",
      "33 images processed, 23 crystals, 12 crystals used.\r",
      "34 images processed, 24 crystals, 12 crystals used.\r",
      "35 images processed, 25 crystals, 13 crystals used.\r",
      "36 images processed, 26 crystals, 13 crystals used.\r",
      "37 images processed, 27 crystals, 14 crystals used.\r",
      "38 images processed, 28 crystals, 14 crystals used.\r",
      "39 images processed, 29 crystals, 15 crystals used.\r",
      "40 images processed, 30 crystals, 15 crystals used.\r",
      "41 images processed, 31 crystals, 16 crystals used.\r",
      "42 images processed, 32 crystals, 16 crystals used.\r",
      "43 images processed, 33 crystals, 17 crystals used.\r",
      "44 images processed, 34 crystals, 17 crystals used.\r",
      "45 images processed, 35 crystals, 18 crystals used.\r",
      "46 images processed, 36 crystals, 18 crystals used.\r",
      "47 images processed, 37 crystals, 19 crystals used.\r",
      "48 images processed, 37 crystals, 19 crystals used.\r",
      "49 images processed, 38 crystals, 19 crystals used.\r",
      "50 images processed, 39 crystals, 20 crystals used.\r",
      "51 images processed, 40 crystals, 20 crystals used.\r",
      "52 images processed, 41 crystals, 21 crystals used.\r",
      "53 images processed, 42 crystals, 21 crystals used.\r",
      "54 images processed, 42 crystals, 21 crystals used.\r",
      "55 images processed, 43 crystals, 22 crystals used.\r",
      "56 images processed, 43 crystals, 22 crystals used.\r",
      "57 images processed, 43 crystals, 22 crystals used.\r",
      "58 images processed, 43 crystals, 22 crystals used.\r",
      "59 images processed, 44 crystals, 22 crystals used.\r",
      "60 images processed, 44 crystals, 22 crystals used.\r",
      "61 images processed, 45 crystals, 23 crystals used.\r",
      "62 images processed, 45 crystals, 23 crystals used.\r",
      "63 images processed, 46 crystals, 23 crystals used.\r",
      "64 images processed, 46 crystals, 23 crystals used.\n"
     ]
    }
   ],
   "source": [
    "process_hkl -i  /home/tsachanowski/CrystFELL_tutorial/tutorial2.stream -o  /home/tsachanowski/CrystFELL_tutorial/tutorial3.hkl -y 222 --max-adu=7000 --odd-only"
   ]
  },
  {
   "cell_type": "code",
   "execution_count": 40,
   "metadata": {},
   "outputs": [
    {
     "name": "stdout",
     "output_type": "stream",
     "text": [
      "Setting --no-pr because we are not modelling partialities (--model=unity).\n",
      "64 images loaded, 46 crystals.\n",
      "Initial partiality calculation...\n",
      "Initial scaling...\n",
      "Scaling: |==================================================|\n",
      "Log residual went from 2.609859e+02 to 1.894710e+02, 46 crystals\n",
      "Mean B = -5.691459e-20\n",
      "Scaling: |==================================================|\n",
      "Log residual went from 1.795515e+02 to 1.636433e+02, 46 crystals\n",
      "Mean B = -6.201040e-20\n",
      "Scaling: |==================================================|\n",
      "Log residual went from 1.677823e+02 to 1.570273e+02, 46 crystals\n",
      "Mean B = -5.878229e-20\n",
      "Scaling: |==================================================|\n",
      "Log residual went from 1.636369e+02 to 1.547329e+02, 46 crystals\n",
      "Mean B = -6.048936e-20\n",
      "Scaling: |==================================================|\n",
      "Log residual went from 1.620817e+02 to 1.540569e+02, 46 crystals\n",
      "Mean B = -6.739137e-20\n",
      "13 bad crystals:\n",
      "  33 OK\n",
      "  13 B too big\n",
      "Residuals:  linear          linear free     log             log free\n",
      "            2.624862e+01    2.920645e+01    5.741158e+02    5.337778e+01\n",
      "Scaling and refinement cycle 1 of 1\n",
      "Scaling: |==================================================|\n",
      "Log residual went from 1.215188e+02 to 1.135506e+02, 33 crystals\n",
      "Mean B = -1.906971e-18\n",
      "Scaling: |==================================================|\n",
      "Log residual went from 1.159157e+02 to 1.104428e+02, 33 crystals\n",
      "Mean B = -1.894119e-18\n",
      "Scaling: |==================================================|\n",
      "Log residual went from 1.144029e+02 to 1.096201e+02, 33 crystals\n",
      "Mean B = -1.896163e-18\n",
      "18 bad crystals:\n",
      "  28 OK\n",
      "  18 B too big\n",
      "Residuals:  linear          linear free     log             log free\n",
      "            1.796157e+01    4.039753e+01    3.621455e+02    2.413711e+01\n",
      "Final merge...\n",
      "Scaling: |==================================================|\n",
      "Log residual went from 9.820113e+01 to 9.300839e+01, 28 crystals\n",
      "Mean B = -2.176010e-18\n",
      "Scaling: |==================================================|\n",
      "Log residual went from 9.684839e+01 to 9.307472e+01, 28 crystals\n",
      "Mean B = -2.225725e-18\n",
      "Residuals:  linear          linear free     log             log free\n",
      "            1.737996e+01    4.694501e+01    2.995448e+02    2.032676e+01\n",
      "Writing overall results to /home/tsachanowski/CrystFELL_tutorial/tutorial.hkl\n",
      "Writing two-way split to /home/tsachanowski/CrystFELL_tutorial/tutorial.hkl1 and /home/tsachanowski/CrystFELL_tutorial/tutorial.hkl2\n"
     ]
    }
   ],
   "source": [
    "partialator -i /home/tsachanowski/CrystFELL_tutorial/tutorial2.stream -o /home/tsachanowski/CrystFELL_tutorial/tutorial.hkl -y 222 --iterations=1 --model=unity --max-adu=7000"
   ]
  },
  {
   "cell_type": "code",
   "execution_count": 41,
   "metadata": {},
   "outputs": [
    {
     "name": "stdout",
     "output_type": "stream",
     "text": [
      "Unknown partiality model 'scsphere'.\n"
     ]
    },
    {
     "ename": "",
     "evalue": "1",
     "output_type": "error",
     "traceback": []
    }
   ],
   "source": [
    "partialator -i /home/tsachanowski/CrystFELL_tutorial/tutorial2.stream -o /home/tsachanowski/CrystFELL_tutorial/tutorial.hkl -y 222 --iterations=1 --model=unity --max-adu=7000"
   ]
  },
  {
   "cell_type": "code",
   "execution_count": 44,
   "metadata": {},
   "outputs": [
    {
     "name": "stdout",
     "output_type": "stream",
     "text": [
      "Discarded 0 reflections (out of 642) with I/sigma(I) < -inf\n",
      "1/d goes from 0.364299 to 8.894277 nm^-1\n",
      "overall <snr> = 2.685312\n",
      "1285 measurements in total.\n",
      "597 reflections in total.\n",
      "Resolution shell information written to shells.dat.\n"
     ]
    }
   ],
   "source": [
    "check_hkl /home/tsachanowski/CrystFELL_tutorial/tutorial2.hkl -y 222 -p /home/tsachanowski/CrystFELL_tutorial/5HT2B.cell"
   ]
  },
  {
   "cell_type": "code",
   "execution_count": 45,
   "metadata": {},
   "outputs": [
    {
     "name": "stdout",
     "output_type": "stream",
     "text": [
      "Center 1/nm  # refs Possible  Compl       Meas   Red   SNR    Std dev       Mean     d(A)    Min 1/nm   Max 1/nm\n",
      "     2.246      553    46662   1.19       1197   2.2  2.83    1476.50     702.36     4.45       0.363      4.130\n",
      "     4.666       39    46621   0.08         78   2.0 -0.03      66.47      -1.94     2.14       4.130      5.202\n",
      "     5.579        1    46611   0.00          2   2.0 -0.23       0.00      -8.42     1.79       5.202      5.955\n",
      "     6.255        1    46570   0.00          2   2.0  0.49       0.00      16.70     1.60       5.955      6.554\n",
      "     6.807        1    46661   0.00          2   2.0  1.42       0.00      16.63     1.47       6.554      7.060\n",
      "     7.282        1    46555   0.00          2   2.0 -0.00       0.00      -0.05     1.37       7.060      7.503\n",
      "     7.700        0    46659   0.00          0  -nan  -nan       -nan       -nan     1.30       7.503      7.898\n",
      "     8.078        0    46653   0.00          0  -nan  -nan       -nan       -nan     1.24       7.898      8.258\n",
      "     8.423        0    46556   0.00          0  -nan  -nan       -nan       -nan     1.19       8.258      8.588\n",
      "     8.742        1    46505   0.00          2   2.0 40.06       0.00     133.41     1.14       8.588      8.895\n"
     ]
    }
   ],
   "source": [
    "cat shells.dat"
   ]
  },
  {
   "cell_type": "code",
   "execution_count": 46,
   "metadata": {},
   "outputs": [
    {
     "name": "stdout",
     "output_type": "stream",
     "text": [
      "Discarded 0 reflections (out of 642) with I/sigma(I) < -inf\n",
      "158 reflections rejected because they were outside the resolution range.\n",
      "1/d goes from 0.364299 to 3.321956 nm^-1\n",
      "overall <snr> = 4.093418\n",
      "977 measurements in total.\n",
      "445 reflections in total.\n",
      "Resolution shell information written to shells.dat.\n"
     ]
    }
   ],
   "source": [
    "check_hkl /home/tsachanowski/CrystFELL_tutorial/tutorial2.hkl -y 222 -p /home/tsachanowski/CrystFELL_tutorial/5HT2B.cell --highres=3"
   ]
  },
  {
   "cell_type": "code",
   "execution_count": 47,
   "metadata": {},
   "outputs": [
    {
     "name": "stdout",
     "output_type": "stream",
     "text": [
      "Center 1/nm  # refs Possible  Compl       Meas   Red   SNR    Std dev       Mean     d(A)    Min 1/nm   Max 1/nm\n",
      "     0.958      150     2469   6.08        348   2.3  5.59    2231.68    1613.90    10.44       0.363      1.553\n",
      "     1.753       61     2442   2.50        135   2.2  7.24     937.69     712.20     5.70       1.553      1.953\n",
      "     2.093       58     2473   2.35        122   2.1  2.05    1211.07     847.70     4.78       1.953      2.234\n",
      "     2.346       35     2415   1.45         80   2.3  7.86    1275.36     772.04     4.26       2.234      2.458\n",
      "     2.552       28     2468   1.13         57   2.0  2.68     632.20     237.14     3.92       2.458      2.647\n",
      "     2.730       21     2467   0.85         45   2.1  2.27     737.14     318.27     3.66       2.647      2.812\n",
      "     2.886       32     2448   1.31         66   2.1  3.54     449.91     140.34     3.46       2.812      2.960\n",
      "     3.027       18     2434   0.74         37   2.1 -2.61     223.22      85.12     3.30       2.960      3.095\n",
      "     3.157       18     2459   0.73         37   2.1  1.68      73.71      20.94     3.17       3.095      3.218\n",
      "     3.276       24     2469   0.97         50   2.1 -2.99     120.95      58.61     3.05       3.218      3.333\n"
     ]
    }
   ],
   "source": [
    "cat shells.dat"
   ]
  },
  {
   "cell_type": "code",
   "execution_count": null,
   "metadata": {},
   "outputs": [],
   "source": []
  }
 ],
 "metadata": {
  "kernelspec": {
   "display_name": "Bash",
   "language": "bash",
   "name": "bash"
  },
  "language_info": {
   "codemirror_mode": "shell",
   "file_extension": ".sh",
   "mimetype": "text/x-sh",
   "name": "bash"
  }
 },
 "nbformat": 4,
 "nbformat_minor": 2
}
