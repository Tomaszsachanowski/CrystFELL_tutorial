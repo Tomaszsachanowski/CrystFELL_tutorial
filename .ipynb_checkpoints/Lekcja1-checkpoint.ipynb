{
 "cells": [
  {
   "cell_type": "code",
   "execution_count": 108,
   "metadata": {},
   "outputs": [
    {
     "name": "stdout",
     "output_type": "stream",
     "text": [
      "\u001b[0m\u001b[38;5;33manaconda3\u001b[0m             \u001b[38;5;33mindexamajig.11639\u001b[0m  list.tmp                SUMMARY\n",
      "\u001b[38;5;33mCrystFELL_tutorial\u001b[0m    \u001b[38;5;33mindexamajig.11686\u001b[0m  mosflm.lp               \u001b[38;5;33mSzablony\u001b[0m\n",
      "\u001b[38;5;33mcxidb-21-run0130\u001b[0m      \u001b[38;5;33mindexamajig.522\u001b[0m    \u001b[38;5;33mMuzyka\u001b[0m                  \u001b[38;5;33mtmp\u001b[0m\n",
      "\u001b[38;5;9mcxidb-21-run0130.tar\u001b[0m  \u001b[38;5;33mindexamajig.562\u001b[0m    \u001b[38;5;33mNCBJ-PRAKTYKI\u001b[0m           Untitled.ipynb\n",
      "\u001b[38;5;33mdata_processing\u001b[0m       \u001b[38;5;33mindexamajig.5936\u001b[0m   \u001b[38;5;33mObrazy\u001b[0m                  \u001b[38;5;33mWideo\u001b[0m\n",
      "\u001b[38;5;33mdestination\u001b[0m           \u001b[38;5;33mindexamajig.702\u001b[0m    \u001b[38;5;33mPobrane\u001b[0m                 \u001b[38;5;33mworkspace\u001b[0m\n",
      "\u001b[38;5;33mDokumenty\u001b[0m             \u001b[38;5;33mindexamajig.8293\u001b[0m   \u001b[38;5;33mPubliczny\u001b[0m\n",
      "\u001b[38;5;33mDownloads\u001b[0m             \u001b[38;5;33mindexamajig.9685\u001b[0m   \u001b[38;5;33mPulpit\u001b[0m\n",
      "\u001b[38;5;33mindexamajig.10169\u001b[0m     \u001b[38;5;33mindexamajig.9822\u001b[0m   slf4j.simpleLogger.log\n"
     ]
    }
   ],
   "source": [
    "cd ~\n",
    "ls\n",
    "hdfsee cxidb-21-run0130/cxidb-21-run0131/data1/LCLS_2013_Mar23_r0131_003717_55a7.h5 -g /home/tsachanowski/CrystFELL_tutorial/5HT2B-Liu-2013.geom\n",
    "\n",
    "# otwiera caly obraz z dorze ustawionymi panelami"
   ]
  },
  {
   "cell_type": "code",
   "execution_count": 54,
   "metadata": {},
   "outputs": [],
   "source": [
    "cd ~\n",
    "hdfsee cxidb-21-run0130/cxidb-21-run0131/data1/LCLS_2013_Mar23_r0131_003730_684f.h5 -g /home/tsachanowski/CrystFELL_tutorial/5HT2B-Liu-2013.geom\n",
    "#inne obrazy hdfsee"
   ]
  },
  {
   "cell_type": "code",
   "execution_count": 52,
   "metadata": {},
   "outputs": [
    {
     "name": "stdout",
     "output_type": "stream",
     "text": [
      "HDF5-DIAG: Error detected in HDF5 (1.8.20) thread 0:\n",
      "  #000: ../../src/H5F.c line 437 in H5Fis_hdf5(): unable open file\n",
      "    major: File accessibilty\n",
      "    minor: Not an HDF5 file\n",
      "  #001: ../../src/H5Fint.c line 552 in H5F_is_hdf5(): unable to open file\n",
      "    major: Low-level I/O\n",
      "    minor: Unable to initialize object\n",
      "  #002: ../../src/H5FD.c line 991 in H5FD_open(): open failed\n",
      "    major: Virtual File Layer\n",
      "    minor: Unable to initialize object\n",
      "  #003: ../../src/H5FDsec2.c line 337 in H5FD_sec2_open(): unable to open file: name = 'cxidb-21-run0130/cxidb-21-run0131/data1/LCLS_2013_Mar23_r0131_003823_b32b.h5', errno = 2, error message = 'No such file or directory', flags = 0, o_flags = 0\n",
      "    major: File accessibilty\n",
      "    minor: Unable to open file\n",
      "Unknown file type 19054144\n",
      "Couldn't load file\n"
     ]
    }
   ],
   "source": [
    "hdfsee cxidb-21-run0130/cxidb-21-run0131/data1/LCLS_2013_Mar23_r0131_003823_b32b.h5 -g /home/tsachanowski/CrystFELL_tutorial/5HT2B-Liu-2013.geom\n",
    "# kolejny przyklad"
   ]
  },
  {
   "cell_type": "code",
   "execution_count": 64,
   "metadata": {},
   "outputs": [
    {
     "name": "stdout",
     "output_type": "stream",
     "text": [
      "cxidb-21-run0130/cxidb-21-run0132/data1/LCLS_2013_Mar23_r0132_010320_ec8b.h5\n",
      "cxidb-21-run0130/cxidb-21-run0132/data1/LCLS_2013_Mar23_r0132_010326_f4bf.h5\n",
      "cxidb-21-run0130/cxidb-21-run0132/data1/LCLS_2013_Mar23_r0132_010319_eb9b.h5\n",
      "cxidb-21-run0130/cxidb-21-run0132/data1/LCLS_2013_Mar23_r0132_010312_e1f9.h5\n",
      "cxidb-21-run0130/cxidb-21-run0132/data1/LCLS_2013_Mar23_r0132_010304_d69b.h5\n",
      "cxidb-21-run0130/cxidb-21-run0132/data1/LCLS_2013_Mar23_r0132_010335_10101.h5\n",
      "cxidb-21-run0130/cxidb-21-run0132/data1/LCLS_2013_Mar23_r0132_010334_ffdb.h5\n",
      "cxidb-21-run0130/cxidb-21-run0132/data1/LCLS_2013_Mar23_r0132_010335_101e5.h5\n",
      "cxidb-21-run0130/cxidb-21-run0132/data1/LCLS_2013_Mar23_r0132_010315_e553.h5\n",
      "cxidb-21-run0130/cxidb-21-run0132/data1/LCLS_2013_Mar23_r0132_010331_fc1b.h5\n",
      "64 /home/tsachanowski/CrystFELL_tutorial/files.lst\n"
     ]
    }
   ],
   "source": [
    "cd ~\n",
    "find cxidb-21-run013* -name 'LCLS*.h5' -print > /home/tsachanowski/CrystFELL_tutorial/files.lst\n",
    "head -n 10 /home/tsachanowski/CrystFELL_tutorial/files.lst\n",
    "wc -l /home/tsachanowski/CrystFELL_tutorial/files.lst\n",
    "# linki wszystkich plikow od tego pliku\n"
   ]
  },
  {
   "cell_type": "code",
   "execution_count": 103,
   "metadata": {},
   "outputs": [
    {
     "name": "stdout",
     "output_type": "stream",
     "text": [
      "WARNING: You did not specify --int-radius.\n",
      "WARNING: I will use the default values, which are probably not appropriate for your patterns.\n",
      "Indexing/integration disabled.\n",
      "Waiting for the last patterns to be processed...\n",
      "Final: 64 images processed, 0 had crystals (0.0%), 0 crystals overall.\n"
     ]
    }
   ],
   "source": [
    "cd ~\n",
    "indexamajig -i /home/tsachanowski/CrystFELL_tutorial/files.lst -g /home/tsachanowski/CrystFELL_tutorial/5HT2B-Liu-2013.geom --peaks=hdf5 --indexing=none -o /home/tsachanowski/CrystFELL_tutorial/tutorial.stream"
   ]
  },
  {
   "cell_type": "code",
   "execution_count": 104,
   "metadata": {},
   "outputs": [
    {
     "name": "stdout",
     "output_type": "stream",
     "text": [
      "\u001b[0m\u001b[38;5;33manaconda3\u001b[0m             \u001b[38;5;33mindexamajig.562\u001b[0m   \u001b[38;5;33mPobrane\u001b[0m\n",
      "\u001b[38;5;33mCrystFELL_tutorial\u001b[0m    \u001b[38;5;33mindexamajig.5936\u001b[0m  \u001b[38;5;33mPubliczny\u001b[0m\n",
      "\u001b[38;5;33mcxidb-21-run0130\u001b[0m      \u001b[38;5;33mindexamajig.702\u001b[0m   \u001b[38;5;33mPulpit\u001b[0m\n",
      "\u001b[38;5;9mcxidb-21-run0130.tar\u001b[0m  \u001b[38;5;33mindexamajig.8293\u001b[0m  slf4j.simpleLogger.log\n",
      "\u001b[38;5;33mdata_processing\u001b[0m       \u001b[38;5;33mindexamajig.9685\u001b[0m  SUMMARY\n",
      "\u001b[38;5;33mdestination\u001b[0m           \u001b[38;5;33mindexamajig.9822\u001b[0m  \u001b[38;5;33mSzablony\u001b[0m\n",
      "\u001b[38;5;33mDokumenty\u001b[0m             list.tmp          \u001b[38;5;33mtmp\u001b[0m\n",
      "\u001b[38;5;33mDownloads\u001b[0m             mosflm.lp         Untitled.ipynb\n",
      "\u001b[38;5;33mindexamajig.10169\u001b[0m     \u001b[38;5;33mMuzyka\u001b[0m            \u001b[38;5;33mWideo\u001b[0m\n",
      "\u001b[38;5;33mindexamajig.11639\u001b[0m     \u001b[38;5;33mNCBJ-PRAKTYKI\u001b[0m     \u001b[38;5;33mworkspace\u001b[0m\n",
      "\u001b[38;5;33mindexamajig.522\u001b[0m       \u001b[38;5;33mObrazy\u001b[0m\n",
      "Extra arguments for hdfsee: -g /home/tsachanowski/CrystFELL_tutorial/5HT2B-Liu-2013.geom --int-boost=5\n",
      "Viewing cxidb-21-run0130/cxidb-21-run0132/data1/LCLS_2013_Mar23_r0132_010320_ec8b.h5\n",
      "Viewing cxidb-21-run0130/cxidb-21-run0132/data1/LCLS_2013_Mar23_r0132_010326_f4bf.h5\n",
      "Viewing cxidb-21-run0130/cxidb-21-run0132/data1/LCLS_2013_Mar23_r0132_010319_eb9b.h5\n",
      "Viewing cxidb-21-run0130/cxidb-21-run0132/data1/LCLS_2013_Mar23_r0132_010312_e1f9.h5\n",
      "Viewing cxidb-21-run0130/cxidb-21-run0132/data1/LCLS_2013_Mar23_r0132_010304_d69b.h5\n"
     ]
    }
   ],
   "source": [
    "# po pobraniu skryptu pubkt 5\n",
    "cd ~; ls \n",
    "chmod +x /home/tsachanowski/CrystFELL_tutorial/check-peak-detection\n",
    "./CrystFELL_tutorial/check-peak-detection /home/tsachanowski/CrystFELL_tutorial/tutorial.stream -g /home/tsachanowski/CrystFELL_tutorial/5HT2B-Liu-2013.geom --int-boost=5\n",
    "# otwieraja sie te same obrazy z kolakmi oznaczajce minima\n"
   ]
  },
  {
   "cell_type": "markdown",
   "metadata": {},
   "source": [
    "# Mosflm\n"
   ]
  },
  {
   "cell_type": "code",
   "execution_count": 105,
   "metadata": {
    "scrolled": true
   },
   "outputs": [
    {
     "name": "stdout",
     "output_type": "stream",
     "text": [
      "No reference unit cell provided.\n",
      "WARNING: Forcing --no-check-cell because reference unit cell parameters were not given.\n",
      "WARNING: Forcing all indexing methods to use \"-nocell\", because reference cell parameters were not given.\n",
      "WARNING: Forcing all indexing methods to use \"-nolatt\", because reference Bravais lattice type was not given.\n",
      "List of indexing methods:\n",
      "   0: mosflm-nolatt-nocell      (mosflm - no prior information)\n",
      "Indexing parameters:\n",
      "                  Check unit cell parameters: off\n",
      "                        Check peak alignment: on\n",
      "                   Refine indexing solutions: on\n",
      " Multi-lattice indexing (\"delete and retry\"): off\n",
      "                              Retry indexing: on\n",
      "   3 indexable out of    3 processed (100.0%),    3 crystals so far.    3 images processed since the last message.\n",
      "   3 indexable out of    4 processed (75.0%),    3 crystals so far.    1 images processed since the last message.\n",
      "   5 indexable out of    8 processed (62.5%),    5 crystals so far.    4 images processed since the last message.\n",
      "   6 indexable out of   10 processed (60.0%),    6 crystals so far.    2 images processed since the last message.\n",
      "   6 indexable out of   10 processed (60.0%),    6 crystals so far.    0 images processed since the last message.\n",
      "   8 indexable out of   13 processed (61.5%),    8 crystals so far.    3 images processed since the last message.\n",
      "  12 indexable out of   17 processed (70.6%),   12 crystals so far.    4 images processed since the last message.\n",
      "  14 indexable out of   19 processed (73.7%),   14 crystals so far.    2 images processed since the last message.\n",
      "  16 indexable out of   22 processed (72.7%),   16 crystals so far.    3 images processed since the last message.\n",
      "  17 indexable out of   24 processed (70.8%),   17 crystals so far.    2 images processed since the last message.\n",
      "  18 indexable out of   26 processed (69.2%),   18 crystals so far.    2 images processed since the last message.\n",
      "  18 indexable out of   26 processed (69.2%),   18 crystals so far.    0 images processed since the last message.\n",
      "WARNING: Too few peaks to estimate resolution.\n",
      "  18 indexable out of   27 processed (66.7%),   18 crystals so far.    1 images processed since the last message.\n",
      "  18 indexable out of   27 processed (66.7%),   18 crystals so far.    0 images processed since the last message.\n",
      "  18 indexable out of   27 processed (66.7%),   18 crystals so far.    0 images processed since the last message.\n",
      "  18 indexable out of   27 processed (66.7%),   18 crystals so far.    0 images processed since the last message.\n",
      "  18 indexable out of   27 processed (66.7%),   18 crystals so far.    0 images processed since the last message.\n",
      "  18 indexable out of   27 processed (66.7%),   18 crystals so far.    0 images processed since the last message.\n",
      "  18 indexable out of   27 processed (66.7%),   18 crystals so far.    0 images processed since the last message.\n",
      "  18 indexable out of   27 processed (66.7%),   18 crystals so far.    0 images processed since the last message.\n",
      "  18 indexable out of   27 processed (66.7%),   18 crystals so far.    0 images processed since the last message.\n",
      "  19 indexable out of   28 processed (67.9%),   19 crystals so far.    1 images processed since the last message.\n",
      "  21 indexable out of   30 processed (70.0%),   21 crystals so far.    2 images processed since the last message.\n",
      "  23 indexable out of   33 processed (69.7%),   23 crystals so far.    3 images processed since the last message.\n",
      "  23 indexable out of   33 processed (69.7%),   23 crystals so far.    0 images processed since the last message.\n",
      "  26 indexable out of   36 processed (72.2%),   26 crystals so far.    3 images processed since the last message.\n",
      "  29 indexable out of   39 processed (74.4%),   29 crystals so far.    3 images processed since the last message.\n",
      "  31 indexable out of   41 processed (75.6%),   31 crystals so far.    2 images processed since the last message.\n",
      "  35 indexable out of   45 processed (77.8%),   35 crystals so far.    4 images processed since the last message.\n",
      "  37 indexable out of   47 processed (78.7%),   37 crystals so far.    2 images processed since the last message.\n"
     ]
    }
   ],
   "source": [
    "cd ~\n",
    "indexamajig -i /home/tsachanowski/CrystFELL_tutorial/files.lst -g /home/tsachanowski/CrystFELL_tutorial/5HT2B-Liu-2013.geom --peaks=hdf5 --indexing=mosflm --int-radius=3,4,5 -o /home/tsachanowski/CrystFELL_tutorial/tutorial2.stream"
   ]
  },
  {
   "cell_type": "code",
   "execution_count": 109,
   "metadata": {},
   "outputs": [
    {
     "name": "stdout",
     "output_type": "stream",
     "text": [
      "\u001b[0m\u001b[38;5;33manaconda3\u001b[0m             \u001b[38;5;33mindexamajig.11639\u001b[0m  list.tmp                SUMMARY\n",
      "\u001b[38;5;33mCrystFELL_tutorial\u001b[0m    \u001b[38;5;33mindexamajig.11686\u001b[0m  mosflm.lp               \u001b[38;5;33mSzablony\u001b[0m\n",
      "\u001b[38;5;33mcxidb-21-run0130\u001b[0m      \u001b[38;5;33mindexamajig.522\u001b[0m    \u001b[38;5;33mMuzyka\u001b[0m                  \u001b[38;5;33mtmp\u001b[0m\n",
      "\u001b[38;5;9mcxidb-21-run0130.tar\u001b[0m  \u001b[38;5;33mindexamajig.562\u001b[0m    \u001b[38;5;33mNCBJ-PRAKTYKI\u001b[0m           Untitled.ipynb\n",
      "\u001b[38;5;33mdata_processing\u001b[0m       \u001b[38;5;33mindexamajig.5936\u001b[0m   \u001b[38;5;33mObrazy\u001b[0m                  \u001b[38;5;33mWideo\u001b[0m\n",
      "\u001b[38;5;33mdestination\u001b[0m           \u001b[38;5;33mindexamajig.702\u001b[0m    \u001b[38;5;33mPobrane\u001b[0m                 \u001b[38;5;33mworkspace\u001b[0m\n",
      "\u001b[38;5;33mDokumenty\u001b[0m             \u001b[38;5;33mindexamajig.8293\u001b[0m   \u001b[38;5;33mPubliczny\u001b[0m\n",
      "\u001b[38;5;33mDownloads\u001b[0m             \u001b[38;5;33mindexamajig.9685\u001b[0m   \u001b[38;5;33mPulpit\u001b[0m\n",
      "\u001b[38;5;33mindexamajig.10169\u001b[0m     \u001b[38;5;33mindexamajig.9822\u001b[0m   slf4j.simpleLogger.log\n",
      "Extra arguments for hdfsee: -g /home/tsachanowski/CrystFELL_tutorial/5HT2B-Liu-2013.geom --int-boost=5\n",
      "Viewing cxidb-21-run0130/cxidb-21-run0132/data1/LCLS_2013_Mar23_r0132_010320_ec8b.h5\n",
      "Viewing cxidb-21-run0130/cxidb-21-run0132/data1/LCLS_2013_Mar23_r0132_010326_f4bf.h5\n",
      "Viewing cxidb-21-run0130/cxidb-21-run0132/data1/LCLS_2013_Mar23_r0132_010319_eb9b.h5\n"
     ]
    }
   ],
   "source": [
    "cd ~; ls \n",
    "chmod +x /home/tsachanowski/CrystFELL_tutorial/check-peak-detection\n",
    "./CrystFELL_tutorial/check-peak-detection /home/tsachanowski/CrystFELL_tutorial/tutorial2.stream -g /home/tsachanowski/CrystFELL_tutorial/5HT2B-Liu-2013.geom --int-boost=5\n",
    "# otwieraja sie te same obrazy z kolakmi oznaczajce minima\n"
   ]
  },
  {
   "cell_type": "code",
   "execution_count": 112,
   "metadata": {
    "scrolled": true
   },
   "outputs": [
    {
     "name": "stdout",
     "output_type": "stream",
     "text": [
      "\u001b[01;31m\u001b[KCell parameters\u001b[m\u001b[K 6.09879 12.26397 16.71987 nm, 90.05237 89.89818 90.23523 deg\n",
      "\u001b[01;31m\u001b[KCell parameters\u001b[m\u001b[K 6.12093 12.18329 16.65691 nm, 89.87373 90.01071 90.23284 deg\n",
      "\u001b[01;31m\u001b[KCell parameters\u001b[m\u001b[K 6.27882 6.81207 16.18527 nm, 89.57789 97.35816 114.83331 deg\n",
      "\u001b[01;31m\u001b[KCell parameters\u001b[m\u001b[K 6.07787 12.18471 16.61400 nm, 89.98647 91.09240 89.77394 deg\n",
      "\u001b[01;31m\u001b[KCell parameters\u001b[m\u001b[K 6.71178 6.73141 33.96699 nm, 90.23859 89.58803 119.06394 deg\n",
      "\u001b[01;31m\u001b[KCell parameters\u001b[m\u001b[K 6.24527 16.75803 6.74319 nm, 89.90734 115.25471 89.94001 deg\n",
      "\u001b[01;31m\u001b[KCell parameters\u001b[m\u001b[K 6.10780 12.25637 16.68806 nm, 89.84692 90.13660 89.92562 deg\n",
      "\u001b[01;31m\u001b[KCell parameters\u001b[m\u001b[K 6.12908 12.21740 16.90402 nm, 89.40469 90.17641 89.97792 deg\n",
      "\u001b[01;31m\u001b[KCell parameters\u001b[m\u001b[K 6.16772 6.69708 16.71187 nm, 90.97745 90.32447 115.57758 deg\n",
      "\u001b[01;31m\u001b[KCell parameters\u001b[m\u001b[K 6.16745 12.24819 16.70594 nm, 89.78402 90.35177 89.92810 deg\n",
      "\u001b[01;31m\u001b[KCell parameters\u001b[m\u001b[K 11.86150 6.14078 16.67414 nm, 90.25411 93.11469 89.71839 deg\n",
      "\u001b[01;31m\u001b[KCell parameters\u001b[m\u001b[K 5.59629 6.43476 18.42445 nm, 80.00052 79.92906 68.71073 deg\n",
      "\u001b[01;31m\u001b[KCell parameters\u001b[m\u001b[K 6.14872 6.90745 34.05192 nm, 90.82573 90.77827 116.24339 deg\n",
      "\u001b[01;31m\u001b[KCell parameters\u001b[m\u001b[K 6.13481 12.20112 16.67948 nm, 89.88100 89.97319 90.25061 deg\n",
      "\u001b[01;31m\u001b[KCell parameters\u001b[m\u001b[K 6.11408 12.16278 16.68776 nm, 89.72044 89.92031 89.74712 deg\n",
      "\u001b[01;31m\u001b[KCell parameters\u001b[m\u001b[K 6.15588 6.82801 16.60867 nm, 90.43776 89.60286 64.19723 deg\n",
      "\u001b[01;31m\u001b[KCell parameters\u001b[m\u001b[K 6.10905 12.20627 16.73302 nm, 89.86525 90.01229 90.01077 deg\n",
      "\u001b[01;31m\u001b[KCell parameters\u001b[m\u001b[K 6.12085 12.24750 16.71559 nm, 90.38708 89.97646 89.98695 deg\n",
      "\u001b[01;31m\u001b[KCell parameters\u001b[m\u001b[K 24.87349 41.65806 46.78991 nm, 91.74017 104.18861 97.06296 deg\n",
      "\u001b[01;31m\u001b[KCell parameters\u001b[m\u001b[K 6.82642 10.97754 17.92872 nm, 104.28230 96.28371 97.68369 deg\n",
      "\u001b[01;31m\u001b[KCell parameters\u001b[m\u001b[K 6.07773 6.79699 16.65546 nm, 88.38970 89.33025 64.03716 deg\n",
      "\u001b[01;31m\u001b[KCell parameters\u001b[m\u001b[K 6.13507 12.20413 16.78530 nm, 89.64349 90.27427 90.24942 deg\n",
      "\u001b[01;31m\u001b[KCell parameters\u001b[m\u001b[K 6.12628 12.16610 16.58901 nm, 90.27128 90.22562 90.04949 deg\n",
      "\u001b[01;31m\u001b[KCell parameters\u001b[m\u001b[K 43.38848 6.87175 42.29635 nm, 90.05902 112.40812 90.02130 deg\n",
      "\u001b[01;31m\u001b[KCell parameters\u001b[m\u001b[K 6.07319 12.19919 16.68717 nm, 89.81832 90.36335 90.06208 deg\n",
      "\u001b[01;31m\u001b[KCell parameters\u001b[m\u001b[K 6.11714 12.15527 16.66175 nm, 89.28771 89.96378 90.05261 deg\n",
      "\u001b[01;31m\u001b[KCell parameters\u001b[m\u001b[K 6.14882 12.20180 16.61812 nm, 89.94069 89.96989 90.06683 deg\n",
      "\u001b[01;31m\u001b[KCell parameters\u001b[m\u001b[K 6.00764 6.80339 16.72765 nm, 89.87456 85.08070 65.08955 deg\n",
      "\u001b[01;31m\u001b[KCell parameters\u001b[m\u001b[K 6.14501 6.81579 16.01299 nm, 92.54282 91.02257 116.29402 deg\n",
      "\u001b[01;31m\u001b[KCell parameters\u001b[m\u001b[K 6.78960 16.24028 17.80855 nm, 73.13114 81.29048 85.63483 deg\n",
      "\u001b[01;31m\u001b[KCell parameters\u001b[m\u001b[K 6.10065 12.17004 16.67277 nm, 89.98160 89.97453 90.15027 deg\n",
      "\u001b[01;31m\u001b[KCell parameters\u001b[m\u001b[K 6.11345 12.16562 16.68367 nm, 89.98636 90.02119 90.03961 deg\n",
      "\u001b[01;31m\u001b[KCell parameters\u001b[m\u001b[K 6.14057 12.21257 16.70104 nm, 90.02765 89.90074 89.91616 deg\n",
      "\u001b[01;31m\u001b[KCell parameters\u001b[m\u001b[K 6.09933 12.09132 16.53835 nm, 89.88152 90.48246 89.56287 deg\n",
      "\u001b[01;31m\u001b[KCell parameters\u001b[m\u001b[K 6.70551 10.91198 17.46479 nm, 105.78035 97.20259 98.04249 deg\n",
      "\u001b[01;31m\u001b[KCell parameters\u001b[m\u001b[K 6.13942 12.21008 33.75222 nm, 89.88264 89.96927 89.80069 deg\n",
      "\u001b[01;31m\u001b[KCell parameters\u001b[m\u001b[K 6.14856 6.79821 16.68142 nm, 89.44134 90.45401 63.11982 deg\n"
     ]
    }
   ],
   "source": [
    "grep \"Cell parameters\" /home/tsachanowski/CrystFELL_tutorial/tutorial2.stream"
   ]
  },
  {
   "cell_type": "code",
   "execution_count": 113,
   "metadata": {
    "scrolled": true
   },
   "outputs": [
    {
     "name": "stdout",
     "output_type": "stream",
     "text": [
      "\u001b[01;31m\u001b[Kcentering\u001b[m\u001b[K = C\n",
      "\u001b[01;31m\u001b[Kcentering\u001b[m\u001b[K = C\n",
      "\u001b[01;31m\u001b[Kcentering\u001b[m\u001b[K = P\n",
      "\u001b[01;31m\u001b[Kcentering\u001b[m\u001b[K = C\n",
      "\u001b[01;31m\u001b[Kcentering\u001b[m\u001b[K = P\n",
      "\u001b[01;31m\u001b[Kcentering\u001b[m\u001b[K = P\n",
      "\u001b[01;31m\u001b[Kcentering\u001b[m\u001b[K = C\n",
      "\u001b[01;31m\u001b[Kcentering\u001b[m\u001b[K = C\n",
      "\u001b[01;31m\u001b[Kcentering\u001b[m\u001b[K = P\n",
      "\u001b[01;31m\u001b[Kcentering\u001b[m\u001b[K = C\n",
      "\u001b[01;31m\u001b[Kcentering\u001b[m\u001b[K = C\n",
      "\u001b[01;31m\u001b[Kcentering\u001b[m\u001b[K = P\n",
      "\u001b[01;31m\u001b[Kcentering\u001b[m\u001b[K = P\n",
      "\u001b[01;31m\u001b[Kcentering\u001b[m\u001b[K = C\n",
      "\u001b[01;31m\u001b[Kcentering\u001b[m\u001b[K = C\n",
      "\u001b[01;31m\u001b[Kcentering\u001b[m\u001b[K = P\n",
      "\u001b[01;31m\u001b[Kcentering\u001b[m\u001b[K = C\n",
      "\u001b[01;31m\u001b[Kcentering\u001b[m\u001b[K = C\n",
      "\u001b[01;31m\u001b[Kcentering\u001b[m\u001b[K = P\n",
      "\u001b[01;31m\u001b[Kcentering\u001b[m\u001b[K = P\n",
      "\u001b[01;31m\u001b[Kcentering\u001b[m\u001b[K = P\n",
      "\u001b[01;31m\u001b[Kcentering\u001b[m\u001b[K = C\n",
      "\u001b[01;31m\u001b[Kcentering\u001b[m\u001b[K = C\n",
      "\u001b[01;31m\u001b[Kcentering\u001b[m\u001b[K = C\n",
      "\u001b[01;31m\u001b[Kcentering\u001b[m\u001b[K = C\n",
      "\u001b[01;31m\u001b[Kcentering\u001b[m\u001b[K = C\n",
      "\u001b[01;31m\u001b[Kcentering\u001b[m\u001b[K = C\n",
      "\u001b[01;31m\u001b[Kcentering\u001b[m\u001b[K = P\n",
      "\u001b[01;31m\u001b[Kcentering\u001b[m\u001b[K = P\n",
      "\u001b[01;31m\u001b[Kcentering\u001b[m\u001b[K = P\n",
      "\u001b[01;31m\u001b[Kcentering\u001b[m\u001b[K = C\n",
      "\u001b[01;31m\u001b[Kcentering\u001b[m\u001b[K = C\n",
      "\u001b[01;31m\u001b[Kcentering\u001b[m\u001b[K = C\n",
      "\u001b[01;31m\u001b[Kcentering\u001b[m\u001b[K = C\n",
      "\u001b[01;31m\u001b[Kcentering\u001b[m\u001b[K = P\n",
      "\u001b[01;31m\u001b[Kcentering\u001b[m\u001b[K = C\n",
      "\u001b[01;31m\u001b[Kcentering\u001b[m\u001b[K = P\n"
     ]
    }
   ],
   "source": [
    "grep \"centering\" /home/tsachanowski/CrystFELL_tutorial/tutorial2.stream"
   ]
  },
  {
   "cell_type": "code",
   "execution_count": 115,
   "metadata": {
    "scrolled": true
   },
   "outputs": [
    {
     "name": "stdout",
     "output_type": "stream",
     "text": [
      "Loaded 37 cells from 47 chunks\n",
      "\n",
      "Selected 37 of 37 cells\n",
      "Selected 0 of 37 cells\n",
      "Selected 37 of 37 cells\n",
      "Selected 37 of 37 cells\n",
      "Selected 37 of 37 cells\n",
      "Selected 37 of 37 cells\n",
      "Selected 37 of 37 cells\n",
      "Selected 37 of 37 cells\n",
      "Selected 37 of 37 cells\n",
      "Selected 2 of 37 cells\n",
      "Selected 36 of 37 cells\n",
      "Fitted: 1.43 96.30 67.23 after 10 iterations\n",
      "Selected 35 of 37 cells\n",
      "Fitted: 1.43 96.63 64.90 after 10 iterations\n",
      "Fitted: 4.03 339.42 -1.96 after 10 iterations\n",
      "Selected 35 of 37 cells\n",
      "Fitted: 1.43 96.63 64.90 after 10 iterations\n",
      "Fitted: 4.03 339.42 -1.96 after 10 iterations\n",
      "Fitted: 0.35 79.75 -19.28 after 10 iterations\n",
      "Selected 25 of 37 cells\n",
      "Fitted: 7.99 123.46 -3.88 after 10 iterations\n",
      "Fitted: 1.59 -74.21 225.01 after 10 iterations\n",
      "Fitted: 0.03 114.47 -22.75 after 10 iterations\n",
      "Fitted: 25.42 90.02 -0.30 after 10 iterations\n",
      "Selected 25 of 37 cells\n",
      "Selected 25 of 37 cells\n",
      "Fitted: 14.00 121.88 27.74 after 10 iterations\n",
      "Fitted: 1.59 -74.21 225.01 after 10 iterations\n",
      "Fitted: 0.03 114.47 -22.75 after 10 iterations\n",
      "Fitted: 25.42 90.02 -0.30 after 10 iterations\n",
      "Fitted: 22.07 122.24 1.96 after 10 iterations\n",
      "Fitted: 1.59 -74.21 225.01 after 10 iterations\n",
      "Fitted: 0.03 114.47 -22.75 after 10 iterations\n",
      "Fitted: 25.42 90.02 -0.30 after 10 iterations\n",
      "Fitted: 14.91 122.03 2.74 after 10 iterations\n",
      "Fitted: 1.59 -74.21 225.01 after 10 iterations\n",
      "Fitted: 0.03 114.47 -22.75 after 10 iterations\n",
      "Fitted: 25.42 90.02 -0.30 after 10 iterations\n",
      "Selected 23 of 37 cells\n",
      "Fitted: 21.18 122.27 2.01 after 10 iterations\n",
      "Fitted: -0.00 354.36 2.66 after 6 iterations\n",
      "Fitted: 0.27 99.82 -54.38 after 10 iterations\n",
      "Fitted: 28.08 90.01 0.28 after 10 iterations\n",
      "Selected 20 of 37 cells\n",
      "Fitted: 20.58 122.29 2.05 after 10 iterations\n",
      "Fitted: 0.83 108.02 -126.00 after 10 iterations\n",
      "Fitted: 22.09 90.13 0.19 after 10 iterations\n",
      "Fitted: 10.92 90.07 0.47 after 10 iterations\n"
     ]
    }
   ],
   "source": [
    "cell_explorer /home/tsachanowski/CrystFELL_tutorial/tutorial2.stream"
   ]
  },
  {
   "cell_type": "markdown",
   "metadata": {},
   "source": [
    "# 8 podpunkt z tutorialu\n",
    "\n"
   ]
  },
  {
   "cell_type": "code",
   "execution_count": 118,
   "metadata": {},
   "outputs": [
    {
     "name": "stdout",
     "output_type": "stream",
     "text": [
      "This is what I understood your unit cell to be:\n",
      "orthorhombic C, unique axis ?.\n",
      "Unit cell parameters are not specified.\n",
      "WARNING: Forcing --no-check-cell because reference unit cell parameters were not given.\n",
      "WARNING: Forcing all indexing methods to use \"-nocell\", because reference cell parameters were not given.\n",
      "List of indexing methods:\n",
      "   0: mosflm-latt-nocell        (mosflm using Bravais lattice type as prior information)\n",
      "Indexing parameters:\n",
      "                  Check unit cell parameters: off\n",
      "                        Check peak alignment: on\n",
      "                   Refine indexing solutions: on\n",
      " Multi-lattice indexing (\"delete and retry\"): off\n",
      "                              Retry indexing: on\n",
      "   2 indexable out of    3 processed (66.7%),    2 crystals so far.    3 images processed since the last message.\n",
      "   2 indexable out of    4 processed (50.0%),    2 crystals so far.    1 images processed since the last message.\n",
      "   3 indexable out of    8 processed (37.5%),    3 crystals so far.    4 images processed since the last message.\n",
      "   3 indexable out of    9 processed (33.3%),    3 crystals so far.    1 images processed since the last message.\n",
      "   3 indexable out of   10 processed (30.0%),    3 crystals so far.    1 images processed since the last message.\n",
      "   3 indexable out of   11 processed (27.3%),    3 crystals so far.    1 images processed since the last message.\n",
      "   6 indexable out of   14 processed (42.9%),    6 crystals so far.    3 images processed since the last message.\n",
      "   6 indexable out of   17 processed (35.3%),    6 crystals so far.    3 images processed since the last message.\n",
      "   6 indexable out of   19 processed (31.6%),    6 crystals so far.    2 images processed since the last message.\n",
      "   7 indexable out of   20 processed (35.0%),    7 crystals so far.    1 images processed since the last message.\n",
      "   7 indexable out of   21 processed (33.3%),    7 crystals so far.    1 images processed since the last message.\n",
      "   8 indexable out of   23 processed (34.8%),    8 crystals so far.    2 images processed since the last message.\n",
      "   8 indexable out of   24 processed (33.3%),    8 crystals so far.    1 images processed since the last message.\n",
      "   8 indexable out of   25 processed (32.0%),    8 crystals so far.    1 images processed since the last message.\n",
      "   8 indexable out of   26 processed (30.8%),    8 crystals so far.    1 images processed since the last message.\n",
      "   8 indexable out of   26 processed (30.8%),    8 crystals so far.    0 images processed since the last message.\n",
      "   8 indexable out of   28 processed (28.6%),    8 crystals so far.    2 images processed since the last message.\n",
      "   8 indexable out of   30 processed (26.7%),    8 crystals so far.    2 images processed since the last message.\n",
      "   8 indexable out of   32 processed (25.0%),    8 crystals so far.    2 images processed since the last message.\n",
      "   9 indexable out of   35 processed (25.7%),    9 crystals so far.    3 images processed since the last message.\n",
      "  11 indexable out of   38 processed (28.9%),   11 crystals so far.    3 images processed since the last message.\n",
      "  11 indexable out of   39 processed (28.2%),   11 crystals so far.    1 images processed since the last message.\n",
      "  11 indexable out of   42 processed (26.2%),   11 crystals so far.    3 images processed since the last message.\n",
      "  11 indexable out of   45 processed (24.4%),   11 crystals so far.    3 images processed since the last message.\n",
      "  13 indexable out of   47 processed (27.7%),   13 crystals so far.    2 images processed since the last message.\n",
      "  13 indexable out of   48 processed (27.1%),   13 crystals so far.    1 images processed since the last message.\n",
      "  13 indexable out of   49 processed (26.5%),   13 crystals so far.    1 images processed since the last message.\n",
      "  13 indexable out of   50 processed (26.0%),   13 crystals so far.    1 images processed since the last message.\n",
      "  13 indexable out of   52 processed (25.0%),   13 crystals so far.    2 images processed since the last message.\n",
      "  13 indexable out of   54 processed (24.1%),   13 crystals so far.    2 images processed since the last message.\n",
      "  13 indexable out of   55 processed (23.6%),   13 crystals so far.    1 images processed since the last message.\n",
      "  13 indexable out of   56 processed (23.2%),   13 crystals so far.    1 images processed since the last message.\n",
      "  13 indexable out of   57 processed (22.8%),   13 crystals so far.    1 images processed since the last message.\n",
      "  14 indexable out of   59 processed (23.7%),   14 crystals so far.    2 images processed since the last message.\n",
      "  14 indexable out of   60 processed (23.3%),   14 crystals so far.    1 images processed since the last message.\n",
      "  14 indexable out of   62 processed (22.6%),   14 crystals so far.    2 images processed since the last message.\n",
      "Waiting for the last patterns to be processed...\n",
      "Final: 64 images processed, 14 had crystals (21.9%), 14 crystals overall.\n"
     ]
    }
   ],
   "source": [
    "cd ~\n",
    "indexamajig -i /home/tsachanowski/CrystFELL_tutorial/files.lst -g /home/tsachanowski/CrystFELL_tutorial/5HT2B-Liu-2013.geom --peaks=hdf5 --indexing=mosflm --int-radius=3,4,5 -p /home/tsachanowski/CrystFELL_tutorial/5HT2B.cell -o /home/tsachanowski/CrystFELL_tutorial/tutorial3.stream"
   ]
  },
  {
   "cell_type": "code",
   "execution_count": 119,
   "metadata": {},
   "outputs": [
    {
     "name": "stdout",
     "output_type": "stream",
     "text": [
      "\u001b[01;31m\u001b[KCell parameters\u001b[m\u001b[K 6.08354 6.71424 16.72633 nm, 90.13709 89.76273 90.18171 deg\n",
      "\u001b[01;31m\u001b[KCell parameters\u001b[m\u001b[K 6.11675 6.79979 16.98019 nm, 90.12514 90.46060 90.32087 deg\n",
      "\u001b[01;31m\u001b[KCell parameters\u001b[m\u001b[K 6.02759 6.52499 16.66160 nm, 89.94875 89.51862 90.01951 deg\n",
      "\u001b[01;31m\u001b[KCell parameters\u001b[m\u001b[K 6.36133 11.16492 16.60148 nm, 90.85227 90.08487 88.88058 deg\n",
      "\u001b[01;31m\u001b[KCell parameters\u001b[m\u001b[K 6.19550 6.82299 17.03732 nm, 89.78151 91.38708 90.47714 deg\n",
      "\u001b[01;31m\u001b[KCell parameters\u001b[m\u001b[K 6.38043 6.82271 16.83687 nm, 89.74450 90.72806 90.26427 deg\n",
      "\u001b[01;31m\u001b[KCell parameters\u001b[m\u001b[K 6.24712 6.81597 16.64878 nm, 89.42212 90.70337 90.06825 deg\n",
      "\u001b[01;31m\u001b[KCell parameters\u001b[m\u001b[K 7.05713 6.70805 16.77175 nm, 89.68152 89.83392 89.74860 deg\n",
      "\u001b[01;31m\u001b[KCell parameters\u001b[m\u001b[K 5.95076 6.84107 16.31991 nm, 89.61000 91.04567 90.82696 deg\n",
      "\u001b[01;31m\u001b[KCell parameters\u001b[m\u001b[K 6.23992 6.80433 16.52629 nm, 90.14460 88.98423 90.55446 deg\n",
      "\u001b[01;31m\u001b[KCell parameters\u001b[m\u001b[K 6.41103 6.91212 16.33815 nm, 89.03294 90.22447 89.61029 deg\n",
      "\u001b[01;31m\u001b[KCell parameters\u001b[m\u001b[K 6.19362 6.98149 33.75312 nm, 90.04279 90.77403 89.95836 deg\n",
      "\u001b[01;31m\u001b[KCell parameters\u001b[m\u001b[K 6.00064 6.84050 16.45908 nm, 89.31339 90.51575 89.79221 deg\n",
      "\u001b[01;31m\u001b[KCell parameters\u001b[m\u001b[K 6.08351 6.91017 17.12318 nm, 89.26283 89.24698 89.77272 deg\n"
     ]
    }
   ],
   "source": [
    "grep \"Cell parameters\" /home/tsachanowski/CrystFELL_tutorial/tutorial3.stream"
   ]
  },
  {
   "cell_type": "code",
   "execution_count": 120,
   "metadata": {},
   "outputs": [
    {
     "name": "stdout",
     "output_type": "stream",
     "text": [
      "\u001b[01;31m\u001b[Klattice_type\u001b[m\u001b[K = orthorhombic\n",
      "\u001b[01;31m\u001b[Klattice_type\u001b[m\u001b[K = orthorhombic\n",
      "\u001b[01;31m\u001b[Klattice_type\u001b[m\u001b[K = orthorhombic\n",
      "\u001b[01;31m\u001b[Klattice_type\u001b[m\u001b[K = orthorhombic\n",
      "\u001b[01;31m\u001b[Klattice_type\u001b[m\u001b[K = orthorhombic\n",
      "\u001b[01;31m\u001b[Klattice_type\u001b[m\u001b[K = orthorhombic\n",
      "\u001b[01;31m\u001b[Klattice_type\u001b[m\u001b[K = orthorhombic\n",
      "\u001b[01;31m\u001b[Klattice_type\u001b[m\u001b[K = orthorhombic\n",
      "\u001b[01;31m\u001b[Klattice_type\u001b[m\u001b[K = orthorhombic\n",
      "\u001b[01;31m\u001b[Klattice_type\u001b[m\u001b[K = orthorhombic\n",
      "\u001b[01;31m\u001b[Klattice_type\u001b[m\u001b[K = orthorhombic\n",
      "\u001b[01;31m\u001b[Klattice_type\u001b[m\u001b[K = orthorhombic\n",
      "\u001b[01;31m\u001b[Klattice_type\u001b[m\u001b[K = orthorhombic\n",
      "\u001b[01;31m\u001b[Klattice_type\u001b[m\u001b[K = orthorhombic\n",
      "\u001b[01;31m\u001b[Klattice_type\u001b[m\u001b[K = orthorhombic\n"
     ]
    }
   ],
   "source": [
    "grep \"lattice_type\" /home/tsachanowski/CrystFELL_tutorial/tutorial3.stream"
   ]
  },
  {
   "cell_type": "code",
   "execution_count": 121,
   "metadata": {},
   "outputs": [
    {
     "name": "stdout",
     "output_type": "stream",
     "text": [
      "\u001b[01;31m\u001b[Kcentering\u001b[m\u001b[K = C\n",
      "\u001b[01;31m\u001b[Kcentering\u001b[m\u001b[K = C\n",
      "\u001b[01;31m\u001b[Kcentering\u001b[m\u001b[K = C\n",
      "\u001b[01;31m\u001b[Kcentering\u001b[m\u001b[K = C\n",
      "\u001b[01;31m\u001b[Kcentering\u001b[m\u001b[K = C\n",
      "\u001b[01;31m\u001b[Kcentering\u001b[m\u001b[K = C\n",
      "\u001b[01;31m\u001b[Kcentering\u001b[m\u001b[K = C\n",
      "\u001b[01;31m\u001b[Kcentering\u001b[m\u001b[K = C\n",
      "\u001b[01;31m\u001b[Kcentering\u001b[m\u001b[K = C\n",
      "\u001b[01;31m\u001b[Kcentering\u001b[m\u001b[K = C\n",
      "\u001b[01;31m\u001b[Kcentering\u001b[m\u001b[K = C\n",
      "\u001b[01;31m\u001b[Kcentering\u001b[m\u001b[K = C\n",
      "\u001b[01;31m\u001b[Kcentering\u001b[m\u001b[K = C\n",
      "\u001b[01;31m\u001b[Kcentering\u001b[m\u001b[K = C\n",
      "\u001b[01;31m\u001b[Kcentering\u001b[m\u001b[K = C\n"
     ]
    }
   ],
   "source": [
    "grep \"centering\" /home/tsachanowski/CrystFELL_tutorial/tutorial3.stream"
   ]
  },
  {
   "cell_type": "code",
   "execution_count": 122,
   "metadata": {},
   "outputs": [
    {
     "name": "stdout",
     "output_type": "stream",
     "text": [
      "Loaded 14 cells from 64 chunks\n",
      "\n",
      "Selected 14 of 14 cells\n",
      "Selected 14 of 14 cells\n",
      "Fitted: 2.00 63.87 3.63 after 1 iterations\n",
      "Selected 13 of 14 cells\n",
      "Fitted: 0.36 61.40 2.14 after 10 iterations\n",
      "Fitted: 7.98 68.14 0.23 after 10 iterations\n",
      "Selected 13 of 14 cells\n",
      "Fitted: 0.36 61.40 2.14 after 10 iterations\n",
      "Fitted: 7.98 68.14 0.23 after 10 iterations\n",
      "Fitted: 0.24 89.77 0.59 after 10 iterations\n",
      "Selected 13 of 14 cells\n",
      "Fitted: 0.36 61.40 2.14 after 10 iterations\n",
      "Fitted: 7.98 68.14 0.23 after 10 iterations\n",
      "Fitted: -0.00 270.14 0.59 after 4 iterations\n",
      "Fitted: 0.24 89.77 0.59 after 10 iterations\n",
      "Selected 12 of 14 cells\n",
      "Fitted: 0.31 61.31 2.29 after 10 iterations\n",
      "Fitted: 8.86 68.13 0.22 after 10 iterations\n",
      "Fitted: 3.25 166.44 3.67 after 7 iterations\n",
      "Fitted: 0.21 89.72 0.60 after 10 iterations\n",
      "Selected 12 of 14 cells\n",
      "Fitted: 0.31 61.31 2.29 after 10 iterations\n",
      "Fitted: 8.86 68.13 0.22 after 10 iterations\n",
      "Fitted: 3.25 166.44 3.67 after 7 iterations\n",
      "Fitted: 0.21 89.72 0.60 after 10 iterations\n",
      "Fitted: 0.23 90.10 0.59 after 5 iterations\n"
     ]
    }
   ],
   "source": [
    "cell_explorer /home/tsachanowski/CrystFELL_tutorial/tutorial3.stream"
   ]
  },
  {
   "cell_type": "code",
   "execution_count": null,
   "metadata": {},
   "outputs": [],
   "source": []
  }
 ],
 "metadata": {
  "kernelspec": {
   "display_name": "Bash",
   "language": "bash",
   "name": "bash"
  },
  "language_info": {
   "codemirror_mode": "shell",
   "file_extension": ".sh",
   "mimetype": "text/x-sh",
   "name": "bash"
  }
 },
 "nbformat": 4,
 "nbformat_minor": 2
}
