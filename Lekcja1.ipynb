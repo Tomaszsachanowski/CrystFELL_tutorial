{
 "cells": [
  {
   "cell_type": "code",
   "execution_count": 53,
   "metadata": {},
   "outputs": [
    {
     "name": "stdout",
     "output_type": "stream",
     "text": [
      "\u001b[0m\u001b[38;5;33manaconda3\u001b[0m             \u001b[38;5;33mdestination\u001b[0m    \u001b[38;5;33mObrazy\u001b[0m                  \u001b[38;5;33mSzablony\u001b[0m\n",
      "\u001b[38;5;33mCrystFELL_tutorial\u001b[0m    \u001b[38;5;33mDokumenty\u001b[0m      \u001b[38;5;33mPobrane\u001b[0m                 \u001b[38;5;33mtmp\u001b[0m\n",
      "\u001b[38;5;33mcxidb-21-run0130\u001b[0m      \u001b[38;5;33mDownloads\u001b[0m      \u001b[38;5;33mPubliczny\u001b[0m               Untitled.ipynb\n",
      "\u001b[38;5;9mcxidb-21-run0130.tar\u001b[0m  \u001b[38;5;33mMuzyka\u001b[0m         \u001b[38;5;33mPulpit\u001b[0m                  \u001b[38;5;33mWideo\u001b[0m\n",
      "\u001b[38;5;33mdata_processing\u001b[0m       \u001b[38;5;33mNCBJ-PRAKTYKI\u001b[0m  slf4j.simpleLogger.log  \u001b[38;5;33mworkspace\u001b[0m\n"
     ]
    }
   ],
   "source": [
    "cd ~\n",
    "ls\n",
    "hdfsee cxidb-21-run0130/cxidb-21-run0131/data1/LCLS_2013_Mar23_r0131_003717_55a7.h5 -g /home/tsachanowski/CrystFELL_tutorial/5HT2B-Liu-2013.geom\n",
    "\n",
    "# otwiera caly obraz z dorze ustawionymi panelami"
   ]
  },
  {
   "cell_type": "code",
   "execution_count": 54,
   "metadata": {},
   "outputs": [],
   "source": [
    "cd ~\n",
    "hdfsee cxidb-21-run0130/cxidb-21-run0131/data1/LCLS_2013_Mar23_r0131_003730_684f.h5 -g /home/tsachanowski/CrystFELL_tutorial/5HT2B-Liu-2013.geom\n",
    "#inne obrazy hdfsee"
   ]
  },
  {
   "cell_type": "code",
   "execution_count": 52,
   "metadata": {},
   "outputs": [
    {
     "name": "stdout",
     "output_type": "stream",
     "text": [
      "HDF5-DIAG: Error detected in HDF5 (1.8.20) thread 0:\n",
      "  #000: ../../src/H5F.c line 437 in H5Fis_hdf5(): unable open file\n",
      "    major: File accessibilty\n",
      "    minor: Not an HDF5 file\n",
      "  #001: ../../src/H5Fint.c line 552 in H5F_is_hdf5(): unable to open file\n",
      "    major: Low-level I/O\n",
      "    minor: Unable to initialize object\n",
      "  #002: ../../src/H5FD.c line 991 in H5FD_open(): open failed\n",
      "    major: Virtual File Layer\n",
      "    minor: Unable to initialize object\n",
      "  #003: ../../src/H5FDsec2.c line 337 in H5FD_sec2_open(): unable to open file: name = 'cxidb-21-run0130/cxidb-21-run0131/data1/LCLS_2013_Mar23_r0131_003823_b32b.h5', errno = 2, error message = 'No such file or directory', flags = 0, o_flags = 0\n",
      "    major: File accessibilty\n",
      "    minor: Unable to open file\n",
      "Unknown file type 19054144\n",
      "Couldn't load file\n"
     ]
    }
   ],
   "source": [
    "hdfsee cxidb-21-run0130/cxidb-21-run0131/data1/LCLS_2013_Mar23_r0131_003823_b32b.h5 -g /home/tsachanowski/CrystFELL_tutorial/5HT2B-Liu-2013.geom\n",
    "# kolejny przyklad"
   ]
  },
  {
   "cell_type": "code",
   "execution_count": 64,
   "metadata": {},
   "outputs": [
    {
     "name": "stdout",
     "output_type": "stream",
     "text": [
      "cxidb-21-run0130/cxidb-21-run0132/data1/LCLS_2013_Mar23_r0132_010320_ec8b.h5\n",
      "cxidb-21-run0130/cxidb-21-run0132/data1/LCLS_2013_Mar23_r0132_010326_f4bf.h5\n",
      "cxidb-21-run0130/cxidb-21-run0132/data1/LCLS_2013_Mar23_r0132_010319_eb9b.h5\n",
      "cxidb-21-run0130/cxidb-21-run0132/data1/LCLS_2013_Mar23_r0132_010312_e1f9.h5\n",
      "cxidb-21-run0130/cxidb-21-run0132/data1/LCLS_2013_Mar23_r0132_010304_d69b.h5\n",
      "cxidb-21-run0130/cxidb-21-run0132/data1/LCLS_2013_Mar23_r0132_010335_10101.h5\n",
      "cxidb-21-run0130/cxidb-21-run0132/data1/LCLS_2013_Mar23_r0132_010334_ffdb.h5\n",
      "cxidb-21-run0130/cxidb-21-run0132/data1/LCLS_2013_Mar23_r0132_010335_101e5.h5\n",
      "cxidb-21-run0130/cxidb-21-run0132/data1/LCLS_2013_Mar23_r0132_010315_e553.h5\n",
      "cxidb-21-run0130/cxidb-21-run0132/data1/LCLS_2013_Mar23_r0132_010331_fc1b.h5\n",
      "64 /home/tsachanowski/CrystFELL_tutorial/files.lst\n"
     ]
    }
   ],
   "source": [
    "cd ~\n",
    "find cxidb-21-run013* -name 'LCLS*.h5' -print > /home/tsachanowski/CrystFELL_tutorial/files.lst\n",
    "head -n 10 /home/tsachanowski/CrystFELL_tutorial/files.lst\n",
    "wc -l /home/tsachanowski/CrystFELL_tutorial/files.lst\n",
    "# linki wszystkich plikow od tego pliku\n"
   ]
  },
  {
   "cell_type": "code",
   "execution_count": 65,
   "metadata": {},
   "outputs": [
    {
     "name": "stdout",
     "output_type": "stream",
     "text": [
      "WARNING: You did not specify --int-radius.\n",
      "WARNING: I will use the default values, which are probably not appropriate for your patterns.\n",
      "Indexing/integration disabled.\n",
      "   0 indexable out of   64 processed ( 0.0%),    0 crystals so far.   64 images processed since the last message.\n",
      "Waiting for the last patterns to be processed...\n",
      "Final: 64 images processed, 0 had crystals (0.0%), 0 crystals overall.\n"
     ]
    }
   ],
   "source": [
    "cd ~\n",
    "indexamajig -i /home/tsachanowski/CrystFELL_tutorial/files.lst -g /home/tsachanowski/CrystFELL_tutorial/5HT2B-Liu-2013.geom --peaks=hdf5 --indexing=none -o /home/tsachanowski/CrystFELL_tutorial/tutorial.stream"
   ]
  },
  {
   "cell_type": "code",
   "execution_count": 88,
   "metadata": {},
   "outputs": [
    {
     "name": "stdout",
     "output_type": "stream",
     "text": [
      "\u001b[0m\u001b[38;5;33manaconda3\u001b[0m             \u001b[38;5;33mDokumenty\u001b[0m        \u001b[38;5;33mMuzyka\u001b[0m         slf4j.simpleLogger.log\n",
      "\u001b[38;5;33mCrystFELL_tutorial\u001b[0m    \u001b[38;5;33mDownloads\u001b[0m        \u001b[38;5;33mNCBJ-PRAKTYKI\u001b[0m  \u001b[38;5;33mSzablony\u001b[0m\n",
      "\u001b[38;5;33mcxidb-21-run0130\u001b[0m      \u001b[38;5;33mindexamajig.522\u001b[0m  \u001b[38;5;33mObrazy\u001b[0m         \u001b[38;5;33mtmp\u001b[0m\n",
      "\u001b[38;5;9mcxidb-21-run0130.tar\u001b[0m  \u001b[38;5;33mindexamajig.562\u001b[0m  \u001b[38;5;33mPobrane\u001b[0m        Untitled.ipynb\n",
      "\u001b[38;5;33mdata_processing\u001b[0m       \u001b[38;5;33mindexamajig.702\u001b[0m  \u001b[38;5;33mPubliczny\u001b[0m      \u001b[38;5;33mWideo\u001b[0m\n",
      "\u001b[38;5;33mdestination\u001b[0m           list.tmp         \u001b[38;5;33mPulpit\u001b[0m         \u001b[38;5;33mworkspace\u001b[0m\n",
      "/home/tsachanowski\n",
      "Extra arguments for hdfsee: -g /home/tsachanowski/CrystFELL_tutorial/5HT2B-Liu-2013.geom --int-boost=5\n",
      "Viewing cxidb-21-run0130/cxidb-21-run0132/data1/LCLS_2013_Mar23_r0132_010320_ec8b.h5\n",
      "Viewing cxidb-21-run0130/cxidb-21-run0132/data1/LCLS_2013_Mar23_r0132_010326_f4bf.h5\n",
      "Viewing cxidb-21-run0130/cxidb-21-run0132/data1/LCLS_2013_Mar23_r0132_010319_eb9b.h5\n",
      "Viewing cxidb-21-run0130/cxidb-21-run0132/data1/LCLS_2013_Mar23_r0132_010312_e1f9.h5\n",
      "Viewing cxidb-21-run0130/cxidb-21-run0132/data1/LCLS_2013_Mar23_r0132_010304_d69b.h5\n",
      "Viewing cxidb-21-run0130/cxidb-21-run0132/data1/LCLS_2013_Mar23_r0132_010335_10101.h5\n"
     ]
    }
   ],
   "source": [
    "# po pobraniu skryptu pubkt 5\n",
    "cd ~; ls ;pwd\n",
    "chmod +x /home/tsachanowski/CrystFELL_tutorial/check-peak-detection\n",
    "./CrystFELL_tutorial/check-peak-detection /home/tsachanowski/CrystFELL_tutorial/tutorial.stream -g /home/tsachanowski/CrystFELL_tutorial/5HT2B-Liu-2013.geom --int-boost=5\n",
    "# otwieraja sie te same obrazy z kolakmi oznaczajce minima\n"
   ]
  },
  {
   "cell_type": "code",
   "execution_count": null,
   "metadata": {},
   "outputs": [],
   "source": []
  }
 ],
 "metadata": {
  "kernelspec": {
   "display_name": "Bash",
   "language": "bash",
   "name": "bash"
  },
  "language_info": {
   "codemirror_mode": "shell",
   "file_extension": ".sh",
   "mimetype": "text/x-sh",
   "name": "bash"
  }
 },
 "nbformat": 4,
 "nbformat_minor": 2
}
