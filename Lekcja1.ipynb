{
 "cells": [
  {
   "cell_type": "code",
   "execution_count": 11,
   "metadata": {},
   "outputs": [
    {
     "name": "stdout",
     "output_type": "stream",
     "text": [
      "\u001b[0m\u001b[38;5;33manaconda3\u001b[0m             \u001b[38;5;33mdestination\u001b[0m    \u001b[38;5;33mObrazy\u001b[0m                  \u001b[38;5;33mSzablony\u001b[0m\n",
      "\u001b[38;5;33mCrystFELL_tutorial\u001b[0m    \u001b[38;5;33mDokumenty\u001b[0m      \u001b[38;5;33mPobrane\u001b[0m                 \u001b[38;5;33mtmp\u001b[0m\n",
      "\u001b[38;5;33mcxidb-21-run0130\u001b[0m      \u001b[38;5;33mDownloads\u001b[0m      \u001b[38;5;33mPubliczny\u001b[0m               Untitled.ipynb\n",
      "\u001b[38;5;9mcxidb-21-run0130.tar\u001b[0m  \u001b[38;5;33mMuzyka\u001b[0m         \u001b[38;5;33mPulpit\u001b[0m                  \u001b[38;5;33mWideo\u001b[0m\n",
      "\u001b[38;5;33mdata_processing\u001b[0m       \u001b[38;5;33mNCBJ-PRAKTYKI\u001b[0m  slf4j.simpleLogger.log  \u001b[38;5;33mworkspace\u001b[0m\n",
      "\n",
      "LCLS_2013_Mar23_r0131_003717_55a7.h5  LCLS_2013_Mar23_r0131_003834_c195.h5\n",
      "LCLS_2013_Mar23_r0131_003730_684f.h5  LCLS_2013_Mar23_r0131_003835_c2c7.h5\n",
      "LCLS_2013_Mar23_r0131_003823_b32b.h5  LCLS_2013_Mar23_r0131_003844_d09b.h5\n",
      "LCLS_2013_Mar23_r0131_003831_bd8d.h5  LCLS_2013_Mar23_r0131_003851_da07.h5\n",
      "LCLS_2013_Mar23_r0131_003832_bead.h5  LCLS_2013_Mar23_r0131_003900_e66d.h5\n",
      "LCLS_2013_Mar23_r0131_003832_bf5b.h5  Plik1.h5\n"
     ]
    }
   ],
   "source": [
    "cd ~\n",
    "ls\n",
    "cd cxidb-21-run0130\n",
    "echo\n",
    "ls cxidb-21-run0131/data1"
   ]
  },
  {
   "cell_type": "code",
   "execution_count": null,
   "metadata": {},
   "outputs": [],
   "source": []
  }
 ],
 "metadata": {
  "kernelspec": {
   "display_name": "Bash",
   "language": "bash",
   "name": "bash"
  },
  "language_info": {
   "codemirror_mode": "shell",
   "file_extension": ".sh",
   "mimetype": "text/x-sh",
   "name": "bash"
  }
 },
 "nbformat": 4,
 "nbformat_minor": 2
}
